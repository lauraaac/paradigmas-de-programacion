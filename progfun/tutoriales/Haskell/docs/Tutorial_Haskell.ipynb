{
 "cells": [
  {
   "cell_type": "markdown",
   "metadata": {
    "collapsed": false
   },
   "source": [
    "# Tutorial Haskell\n",
    "\n",
    "### David Julián Guzmán Cárdenas, Cristian Alexanther Rojas Cárdenas, Luis Ernesto Gil Castellanos\n",
    "#### Universidad Nacional de Colombia\n",
    "#### Lenguajes de Programación - 2016-II\n",
    "\n",
    "<img src=\"imgs/haskell.png\" height=\"200\" width=\"200\">"
   ]
  },
  {
   "cell_type": "markdown",
   "metadata": {
    "collapsed": false
   },
   "source": [
    "## Introducción"
   ]
  },
  {
   "cell_type": "markdown",
   "metadata": {
    "collapsed": true
   },
   "source": [
    "Haskell Stack es un entorno de desarrollo integral para Haskell, podríamos dividirlo en tres grandes componentes: Stack, que es el constructor de proyectos de múltiples paquetes de Haskell, GHC(Glasgow Haskell Compiler) el compilador para programas en Haskell. Y Haddock, un generador de documentación para paquetes de Haskell. El presente tutorial mostrará en la sección de instalación las instrucciones para los sistemas operativos Windows y GNU/Linux, a pesar que muchas de las fases son exactamente iguales. \n",
    "\n",
    "Cada uno de los componentes (mas una gran cantidad de paquetes adicionales que pueden ser descargados) está disponible en la sección de descargas de la página oficial de Haskell https://www.haskell.org/downloads, sin embargo, el método recomendado en el presente documento es obtener \"Haskell Platform\", que automáticamente instala GHC, Cabal(un paquete necesario para la instalación), y algunas librerías y herramientas útiles para desarrollo en Haskell.\n",
    "\n"
   ]
  },
  {
   "cell_type": "markdown",
   "metadata": {
    "collapsed": false
   },
   "source": [
    "A continuación presentaremos algunas de las características de haskell.\n",
    "### Caracteristicas\n",
    "#### Polymorphism\n",
    "Un valor es polimorfico si puede tener más de un tipo. En Haskell se manejan dos tipos de polimorfismo:\n",
    "* Polimorfismo Paramétrico: Es el tipo de polimorfismo más común. Se define como una función que se comporta uniformemente para todos los tipos. En otras palabras, puede evaluarse para cualquier tipo. La función lenght para las listas es un ejemplo de esto ya que no importa que valor este guardado en estas.\n",
    "Lenght se define como:\n",
    "length :: [a] -> Int"
   ]
  },
  {
   "cell_type": "code",
   "execution_count": 1,
   "metadata": {
    "collapsed": false
   },
   "outputs": [
    {
     "data": {
      "text/plain": [
       "2"
      ]
     },
     "execution_count": 1,
     "metadata": {
     },
     "output_type": "execute_result"
    },
    {
     "data": {
      "text/plain": [
       "4"
      ]
     },
     "execution_count": 1,
     "metadata": {
     },
     "output_type": "execute_result"
    },
    {
     "data": {
      "text/plain": [
       "4"
      ]
     },
     "execution_count": 1,
     "metadata": {
     },
     "output_type": "execute_result"
    },
    {
     "data": {
      "text/plain": [
       "3"
      ]
     },
     "execution_count": 1,
     "metadata": {
     },
     "output_type": "execute_result"
    }
   ],
   "source": [
    "length ['a', 'b']\n",
    "length [1, 2, 10, 100]\n",
    "length \"abcd\"\n",
    "length [['a', 'b', 'c'], ['d'],['e']]"
   ]
  },
  {
   "cell_type": "markdown",
   "metadata": {
    "collapsed": false
   },
   "source": [
    "* Ad-hoc: Es similar para el poliformismo paramétrico pero es más restringido en el sentido en que se puede tener un polimorfismo 'custom' para cierto subconjunto de tipos."
   ]
  },
  {
   "cell_type": "code",
   "execution_count": 2,
   "metadata": {
    "collapsed": false
   },
   "outputs": [
   ],
   "source": [
    "{-# LANGUAGE FlexibleInstances #-}\n",
    "{-# LANGUAGE TypeSynonymInstances #-}\n",
    "\n",
    "class CustomShow a where\n",
    "    customshow :: a -> String\n",
    "\n",
    "instance CustomShow Int where\n",
    "    customshow i = show (i+1)\n",
    "\n",
    "instance CustomShow [Char] where\n",
    "    customshow s = show s"
   ]
  },
  {
   "cell_type": "code",
   "execution_count": 3,
   "metadata": {
    "collapsed": false
   },
   "outputs": [
    {
     "data": {
      "text/plain": [
       "\"\\\"ab\\\"\""
      ]
     },
     "execution_count": 3,
     "metadata": {
     },
     "output_type": "execute_result"
    },
    {
     "data": {
      "text/plain": [
       "\"3\""
      ]
     },
     "execution_count": 3,
     "metadata": {
     },
     "output_type": "execute_result"
    }
   ],
   "source": [
    "customshow ['a', 'b']\n",
    "-- Es necesario agregarle el ::Int debido a que toma el valor como Num\n",
    "customshow (2::Int)"
   ]
  },
  {
   "cell_type": "markdown",
   "metadata": {
    "collapsed": false
   },
   "source": [
    "En el ejemplo anterior se puede ver como se define una función de forma diferente según el tipo de dato. Es similar a lo que sería una sobrecarga de funciones en otros lenguajes de programación"
   ]
  },
  {
   "cell_type": "markdown",
   "metadata": {
    "collapsed": false
   },
   "source": [
    "#### Statically Typed\n",
    "Existen varios tipos de tipado en los lenguajes de programación. Haskell tiene un tipado estático, lo que quiere decir que:\n",
    "1. Se pueden encontrar errores antes de que se ejecute el programa ya que los tipos se verifican en tiempo de compilación.\n",
    "2. Código más eficiente debido a que el compilador sabe cuando espacio debe reservar para determinado tipo. No necesita allocar memoria en tiempo de ejecución.\n",
    "\n",
    "Esto no quiere decir que haskell no cuente con tipado dinámico. Se puede hacer uso del tipo *Dynamic*, sin embargo se utiliza rara vez\n",
    "#### Lazy\n",
    "La 'evaluación perezosa'(lazy) es la forma en la que Haskell evalua un programa.\n",
    "\n",
    "En términos simples quiere decir que una expresión no es evaluada cuando se le asocian valore a sus variables, si no que se ejecuta cuando su resultado sea requerido por otras operaciones. Es lo opuesto a **eager evaluation**.\n",
    "\n",
    "Varios problemas pueden surgir con este modo de evaluación, como lo es el manejo de memoria:"
   ]
  },
  {
   "cell_type": "code",
   "execution_count": 4,
   "metadata": {
    "collapsed": false
   },
   "outputs": [
    {
     "data": {
      "text/plain": [
       "4"
      ]
     },
     "execution_count": 4,
     "metadata": {
     },
     "output_type": "execute_result"
    }
   ],
   "source": [
    "2 + 2 ::Int"
   ]
  },
  {
   "cell_type": "code",
   "execution_count": 5,
   "metadata": {
    "collapsed": false
   },
   "outputs": [
    {
     "data": {
      "text/plain": [
       "4"
      ]
     },
     "execution_count": 5,
     "metadata": {
     },
     "output_type": "execute_result"
    }
   ],
   "source": [
    "4 :: Int"
   ]
  },
  {
   "cell_type": "markdown",
   "metadata": {
    "collapsed": false
   },
   "source": [
    "Ambos ejemplos producen el mismo valor, pero el primero ocupa más memoria"
   ]
  },
  {
   "cell_type": "markdown",
   "metadata": {
    "collapsed": false
   },
   "source": [
    "#### Purely Functional\n",
    "Una de las características más importantes de haskell es que es un lenguaje puramente funcional, como se menciona anteriormente. Ya sabemos que un lenguaje puramente funcional es aquel que se ejecuta evaluando expresiones.\n",
    "A continuación presentamos algunos de los elementos más relevantes de esti tipo de lenguajes:\n",
    "* HOF: High Order Functions. Toma otras funciones como sus argumentos"
   ]
  },
  {
   "cell_type": "code",
   "execution_count": 6,
   "metadata": {
    "collapsed": false
   },
   "outputs": [
   ],
   "source": [
    "multThree :: (Num a) => a -> a -> a -> a\n",
    "multThree x y z = x * y * z"
   ]
  },
  {
   "cell_type": "code",
   "execution_count": 7,
   "metadata": {
    "collapsed": false
   },
   "outputs": [
    {
     "data": {
      "text/plain": [
       "54"
      ]
     },
     "execution_count": 7,
     "metadata": {
     },
     "output_type": "execute_result"
    }
   ],
   "source": [
    "let multTwoWithNine = multThree 9\n",
    "multTwoWithNine 2 3"
   ]
  },
  {
   "cell_type": "markdown",
   "metadata": {
    "collapsed": false
   },
   "source": [
    "En este ejemplo se puede ver que la función multThree se evalua en un principio en 9, y lo que contiene multTwoWithNine en realidad es una función equivalente a multTwoWithNine y z = 9 * y * z.\n",
    "En el ejemplo se puede ver como funcionan las HOF, pero tambíen un caso especifico de estas que son las *courried functions*"
   ]
  },
  {
   "cell_type": "markdown",
   "metadata": {
    "collapsed": false
   },
   "source": [
    "#### Programas concisos\n",
    "La sintaxis de Haskell fue diseñada para la creación de programas concisos\n",
    "* Tiene pocas palabras clave\n",
    "* Usa indentación como medio de estructuración del código\n",
    "#### Sistema de tipos\n",
    "Tiene un sistema de tipo que requiere un poco de información del programador con los cuales puede detectar una gran variedad de errores de incompatibilidad. Además incluye módulos de inferencia de tipo que junto a las verificaciones se realizan antes de ejecutar el programa. Por tal motivo, se pueden evitar incomptaibilidades y resultados no deseados además de permitir polimorfismo y sobrecarga de funciones.\n",
    "\n",
    "#### Efectos monádicos\n",
    "Dada una misma entrada, se produce la misma salida.\n",
    "\n",
    "#### Razonamiento sobre los programas\n",
    "Debido a que los programas son funciones con un razonamiento ecuacional puede ser usado para \n",
    "* Ejecutar programas.\n",
    "* Transformar programas.\n",
    "* Probar propiedades de programas.\n",
    "* Derivar programas directamente de especificaciones.\n"
   ]
  },
  {
   "cell_type": "markdown",
   "metadata": {
    "collapsed": false
   },
   "source": [
    "### Instalación\n",
    "Hay tres maneras ampliamente usadas para instalar Haskell en las diversas plataformas\n",
    "* Instalación minima: Solo se instala el GHC (el compilador), y herramientas de construcción  (principalmente Cabal y Stack) estas se instalan globalmente en el sistema, usando el sistema de administrador de paquetes\n",
    "* Stack: Se instala el comando global stack una herramienta de construcción centrada en proyectos para automaticamente descargar y manejar las dependencia de Haskell en un proyecto base.\n",
    "* Plataforma de Haskell: Se instala GHC, Cabal, y otras herramientas, junto con un conjunto inicial de bibliotecas en una ubicación global en su sistema.\n",
    "#### Windows\n",
    "1. Descarga la última versión del instalador https://www.haskell.org/platform/\n",
    "2. Verifica que el archivo de configuración contenga las siguientes lineas:\n",
    "* extra-prog-path: C:\\Program Files\\Haskell Platform\\8.6.5\\msys\\usr\\bin\n",
    "* extra-lib-dirs: C:\\Program Files\\Haskell Platform\\8.6.5\\mingw\\lib\n",
    "* extra-include-dirs: C:\\Program Files\\Haskell Platform\\8.6.5\\mingw\\include\n",
    "3. Ejecuta WinGHCi desde el menú de inicio\n",
    "\n",
    "#### Linux\n",
    "Para realizar la instalación de haskell en linux se puede seguir los pasos segun la distribución siguiendo el tutorial de la pagina https://www.haskell.org/downloads/linux/\n",
    "\n",
    "Para la distribucion ubuntu se realiza mediante el comando\n",
    "sudo apt-get install haskell-platform\n",
    "\n",
    "Una vez instalado para compilar los archivos de haskell se realiza por el comando \n",
    "\n",
    "ghci nombre_archivo.hs\n",
    "#### Mac\n",
    "Esta es una de las maneras de instalar Haskell en un dispositivo macOS. Lo primero que se hace es realizar la instalación de las dependecias y después instalar ghc.\n",
    "1. Nos dirigimos a la página oficial de haskell https://www.haskell.org/platform/\n",
    "2. Se descarga el instalador \n",
    "3. Se instalan las utilidades del comando de lina xcode. Para esto si abre una terminal y se realiza el comando:\n",
    "   xcode-select --install\n",
    "4. Se ejecuta el instalador previamente descargado.\n",
    "### Alternativas\n",
    "Es posible ejecutar haskell en jupyter notebooks dada la naturaleza del lenguaje ya que puede ser o interpretado o compilado.\n",
    "#### Jupyter Notebooks\n",
    "Para hacer la instalación de haskell es necesario contar con jupyter, el cual se puede descargar como paquete independiente de python, pero preferiblemente usamos la distribución de [anaconda](https://www.anaconda.com/distribution/).\n",
    "\n",
    "Despues de tener jupyter instalado es necesario agregar el kenrnel de Haskell. Para ello hacemos uso de las instrucciones que se encuentran en el repositorio oficial del proyecto: [Git Ihaskell](https://github.com/gibiansky/IHaskell).\n",
    "\n",
    "Si no se desea realizar la instalación se puede recurrir a los siguentes métodos:\n",
    "* [Ihaskell Docker](https://github.com/gibiansky/IHaskell/blob/master/Dockerfile)\n",
    "* [Cocalc Notebooks](https://cocalc.com/)\n",
    "Para la realización del taller que se encuentra al final de este notebook recomendamos el uso de cocalc notebooks dado que es la alternativa más sencilla."
   ]
  },
  {
   "cell_type": "markdown",
   "metadata": {
    "collapsed": false
   },
   "source": [
    "Para tal fin, se debe acceder al siguiente vínculo https://www.haskell.org/platform/ y seleccionar el sistema operativo y distribución (en caso de tratarse de un sistema GNU/Linux)."
   ]
  },
  {
   "cell_type": "markdown",
   "metadata": {
    "collapsed": false
   },
   "source": [
    "<hr><table>\n",
    "<tr>\n",
    "<th><img src=\"imgs/linux.png\" height=\"500\" width=\"500\"></th>\n",
    "<th><img src=\"imgs/wind.png\" height=\"350\" width=\"350\"></th>\n",
    "</tr>\n",
    "</table>\n",
    "<hr>\n",
    "\n",
    "Luego de haber finalizado la instalación todo está preparado para el primer programa en Haskell."
   ]
  },
  {
   "cell_type": "markdown",
   "metadata": {
    "collapsed": false
   },
   "source": [
    "## ¡Hola, mundo!"
   ]
  },
  {
   "cell_type": "markdown",
   "metadata": {
    "collapsed": true
   },
   "source": [
    "Es hora de iniciar un nuevo lenguaje de programación, ¿Qué mejor manera de hacerlo que con el clásico \"Hola, mundo\"?\n",
    "\n",
    "Se requiere mostrar un mensaje en pantalla que diga \"Hola, mundo!\", en ese orden de ideas se explorarán dos métodos: la consola y el script. Es menester verificar que el compilador está funcionando correctamente, para ello en una terminal se usa el siguiente comando: <b>ghci --version</b>, se obtendrá una salida como la siguiente si el compilador fue instalado correctamente.\n",
    "\n",
    "<img src=\"imgs/ghci.png\" height=\"120\">"
   ]
  },
  {
   "cell_type": "markdown",
   "metadata": {
    "collapsed": false
   },
   "source": [
    "#### Consola"
   ]
  },
  {
   "cell_type": "markdown",
   "metadata": {
    "collapsed": false
   },
   "source": [
    "En la consola, con el comando <b>ghci</b> se iniciará el compilador y una pequeña interfaz para la entrada de comandos, se reconoce porque el texto en la terminal cambiará a <b>Prelude> </b>, ahora se está listo para escribir la cadena \"Hola, mundo!\" y ENTER para que se procese esa entrada. El compilador mostrará como salida la misma cadena, pero si se quiere imprimir en pantalla, se debe usar el comando <b>putStrLn</b> seguido de la expresión que se desea imprimir. En Windows, se puede descargar WinGHCi, que es un pequeño IDE lo suficientemente poderoso como para seguir este tutorial.\n",
    "\n",
    "<img src=\"imgs/hello.png\" height=\"500\" width=\"500\">"
   ]
  },
  {
   "cell_type": "markdown",
   "metadata": {
    "collapsed": true
   },
   "source": [
    "#### Archivo fuente"
   ]
  },
  {
   "cell_type": "markdown",
   "metadata": {
    "collapsed": false
   },
   "source": [
    "Los archivos fuente de Haskell que se usarán a lo largo de este tutorial tienen la extensión *.hs para ello, en el editor de texto de preferencia, escriba <b>main = putStrLn \"Hola, mundo!\"</b> y guárdelo como \"hello.sh\" (sin las comillas), la compilación se hará mediante el comando <b>ghc -o a hello.hs</b> donde se especifica al compilador a través de la opción -o que el archivo de salida será \"a\" y el código fuente está en \"hello.sh\". Para ejecutar, use el siguiente comando <b>./a</b>\n",
    "\n",
    "<img src =\"imgs/script.png\" height=\"500\" width=\"500\">"
   ]
  },
  {
   "cell_type": "markdown",
   "metadata": {
    "collapsed": true
   },
   "source": [
    "## Introducción"
   ]
  },
  {
   "cell_type": "markdown",
   "metadata": {
    "collapsed": true
   },
   "source": [
    "Para propósito de este tutorial, se hará una introducción a las estructuras de datos más usadas y las operaciones sobre las mismas, en puntos posteriores, será crucial tener un dominio en estas herramientas."
   ]
  },
  {
   "cell_type": "markdown",
   "metadata": {
    "collapsed": false
   },
   "source": [
    "### Warm Up\n",
    "Antes de empezar vamos a ver algunas de las cosas más simples que se pueden hacer en Haskell"
   ]
  },
  {
   "cell_type": "code",
   "execution_count": 8,
   "metadata": {
    "collapsed": false
   },
   "outputs": [
    {
     "data": {
      "text/plain": [
       "7"
      ]
     },
     "execution_count": 8,
     "metadata": {
     },
     "output_type": "execute_result"
    },
    {
     "data": {
      "text/plain": [
       "2.5"
      ]
     },
     "execution_count": 8,
     "metadata": {
     },
     "output_type": "execute_result"
    },
    {
     "data": {
      "text/plain": [
       "4500"
      ]
     },
     "execution_count": 8,
     "metadata": {
     },
     "output_type": "execute_result"
    }
   ],
   "source": [
    "2+5\n",
    "5/2\n",
    "(50*100)-500"
   ]
  },
  {
   "cell_type": "code",
   "execution_count": 9,
   "metadata": {
    "collapsed": false
   },
   "outputs": [
    {
     "data": {
      "text/html": [
       "<style>/* Styles used for the Hoogle display in the pager */\n",
       ".hoogle-doc {\n",
       "display: block;\n",
       "padding-bottom: 1.3em;\n",
       "padding-left: 0.4em;\n",
       "}\n",
       ".hoogle-code {\n",
       "display: block;\n",
       "font-family: monospace;\n",
       "white-space: pre;\n",
       "}\n",
       ".hoogle-text {\n",
       "display: block;\n",
       "}\n",
       ".hoogle-name {\n",
       "color: green;\n",
       "font-weight: bold;\n",
       "}\n",
       ".hoogle-head {\n",
       "font-weight: bold;\n",
       "}\n",
       ".hoogle-sub {\n",
       "display: block;\n",
       "margin-left: 0.4em;\n",
       "}\n",
       ".hoogle-package {\n",
       "font-weight: bold;\n",
       "font-style: italic;\n",
       "}\n",
       ".hoogle-module {\n",
       "font-weight: bold;\n",
       "}\n",
       ".hoogle-class {\n",
       "font-weight: bold;\n",
       "}\n",
       ".get-type {\n",
       "color: green;\n",
       "font-weight: bold;\n",
       "font-family: monospace;\n",
       "display: block;\n",
       "white-space: pre-wrap;\n",
       "}\n",
       ".show-type {\n",
       "color: green;\n",
       "font-weight: bold;\n",
       "font-family: monospace;\n",
       "margin-left: 1em;\n",
       "}\n",
       ".mono {\n",
       "font-family: monospace;\n",
       "display: block;\n",
       "}\n",
       ".err-msg {\n",
       "color: red;\n",
       "font-style: italic;\n",
       "font-family: monospace;\n",
       "white-space: pre;\n",
       "display: block;\n",
       "}\n",
       "#unshowable {\n",
       "color: red;\n",
       "font-weight: bold;\n",
       "}\n",
       ".err-msg.in.collapse {\n",
       "padding-top: 0.7em;\n",
       "}\n",
       ".highlight-code {\n",
       "white-space: pre;\n",
       "font-family: monospace;\n",
       "}\n",
       ".suggestion-warning { \n",
       "font-weight: bold;\n",
       "color: rgb(200, 130, 0);\n",
       "}\n",
       ".suggestion-error { \n",
       "font-weight: bold;\n",
       "color: red;\n",
       "}\n",
       ".suggestion-name {\n",
       "font-weight: bold;\n",
       "}\n",
       "</style><div class=\"suggestion-name\" style=\"clear:both;\">Evaluate</div><div class=\"suggestion-row\" style=\"float: left;\"><div class=\"suggestion-warning\">Found:</div><div class=\"highlight-code\" id=\"haskell\">True && False</div></div><div class=\"suggestion-row\" style=\"float: left;\"><div class=\"suggestion-warning\">Why Not:</div><div class=\"highlight-code\" id=\"haskell\">False</div></div><div class=\"suggestion-name\" style=\"clear:both;\">Evaluate</div><div class=\"suggestion-row\" style=\"float: left;\"><div class=\"suggestion-warning\">Found:</div><div class=\"highlight-code\" id=\"haskell\">True && True</div></div><div class=\"suggestion-row\" style=\"float: left;\"><div class=\"suggestion-warning\">Why Not:</div><div class=\"highlight-code\" id=\"haskell\">True</div></div><div class=\"suggestion-name\" style=\"clear:both;\">Evaluate</div><div class=\"suggestion-row\" style=\"float: left;\"><div class=\"suggestion-warning\">Found:</div><div class=\"highlight-code\" id=\"haskell\">False || True</div></div><div class=\"suggestion-row\" style=\"float: left;\"><div class=\"suggestion-warning\">Why Not:</div><div class=\"highlight-code\" id=\"haskell\">True</div></div><div class=\"suggestion-name\" style=\"clear:both;\">Evaluate</div><div class=\"suggestion-row\" style=\"float: left;\"><div class=\"suggestion-warning\">Found:</div><div class=\"highlight-code\" id=\"haskell\">not True</div></div><div class=\"suggestion-row\" style=\"float: left;\"><div class=\"suggestion-warning\">Why Not:</div><div class=\"highlight-code\" id=\"haskell\">False</div></div>"
      ],
      "text/plain": [
       "Line 1: Evaluate\n",
       "Found:\n",
       "True && False\n",
       "Why not:\n",
       "FalseLine 1: Evaluate\n",
       "Found:\n",
       "True && True\n",
       "Why not:\n",
       "TrueLine 1: Evaluate\n",
       "Found:\n",
       "False || True\n",
       "Why not:\n",
       "TrueLine 1: Evaluate\n",
       "Found:\n",
       "not True\n",
       "Why not:\n",
       "False"
      ]
     },
     "execution_count": 9,
     "metadata": {
     },
     "output_type": "execute_result"
    },
    {
     "data": {
      "text/plain": [
       "False"
      ]
     },
     "execution_count": 9,
     "metadata": {
     },
     "output_type": "execute_result"
    },
    {
     "data": {
      "text/plain": [
       "True"
      ]
     },
     "execution_count": 9,
     "metadata": {
     },
     "output_type": "execute_result"
    },
    {
     "data": {
      "text/plain": [
       "True"
      ]
     },
     "execution_count": 9,
     "metadata": {
     },
     "output_type": "execute_result"
    },
    {
     "data": {
      "text/plain": [
       "False"
      ]
     },
     "execution_count": 9,
     "metadata": {
     },
     "output_type": "execute_result"
    }
   ],
   "source": [
    "True && False\n",
    "True && True\n",
    "False || True\n",
    "not True"
   ]
  },
  {
   "cell_type": "code",
   "execution_count": 10,
   "metadata": {
    "collapsed": false
   },
   "outputs": [
    {
     "data": {
      "text/plain": [
       "True"
      ]
     },
     "execution_count": 10,
     "metadata": {
     },
     "output_type": "execute_result"
    },
    {
     "data": {
      "text/plain": [
       "False"
      ]
     },
     "execution_count": 10,
     "metadata": {
     },
     "output_type": "execute_result"
    },
    {
     "data": {
      "text/plain": [
       "True"
      ]
     },
     "execution_count": 10,
     "metadata": {
     },
     "output_type": "execute_result"
    },
    {
     "data": {
      "text/plain": [
       "True"
      ]
     },
     "execution_count": 10,
     "metadata": {
     },
     "output_type": "execute_result"
    }
   ],
   "source": [
    "5 == 5\n",
    "1 == 0\n",
    "\"asdf\" == \"asdf\"\n",
    "\"AB\" < \"XC\""
   ]
  },
  {
   "cell_type": "code",
   "execution_count": 11,
   "metadata": {
    "collapsed": false
   },
   "outputs": [
    {
     "data": {
      "text/plain": [
       "10"
      ]
     },
     "execution_count": 11,
     "metadata": {
     },
     "output_type": "execute_result"
    },
    {
     "data": {
      "text/plain": [
       "4"
      ]
     },
     "execution_count": 11,
     "metadata": {
     },
     "output_type": "execute_result"
    },
    {
     "data": {
      "text/plain": [
       "10"
      ]
     },
     "execution_count": 11,
     "metadata": {
     },
     "output_type": "execute_result"
    }
   ],
   "source": [
    "max 10 5\n",
    "min 5 4\n",
    "succ 9"
   ]
  },
  {
   "cell_type": "code",
   "execution_count": 12,
   "metadata": {
    "collapsed": false
   },
   "outputs": [
    {
     "data": {
      "text/html": [
       "<style>/* Styles used for the Hoogle display in the pager */\n",
       ".hoogle-doc {\n",
       "display: block;\n",
       "padding-bottom: 1.3em;\n",
       "padding-left: 0.4em;\n",
       "}\n",
       ".hoogle-code {\n",
       "display: block;\n",
       "font-family: monospace;\n",
       "white-space: pre;\n",
       "}\n",
       ".hoogle-text {\n",
       "display: block;\n",
       "}\n",
       ".hoogle-name {\n",
       "color: green;\n",
       "font-weight: bold;\n",
       "}\n",
       ".hoogle-head {\n",
       "font-weight: bold;\n",
       "}\n",
       ".hoogle-sub {\n",
       "display: block;\n",
       "margin-left: 0.4em;\n",
       "}\n",
       ".hoogle-package {\n",
       "font-weight: bold;\n",
       "font-style: italic;\n",
       "}\n",
       ".hoogle-module {\n",
       "font-weight: bold;\n",
       "}\n",
       ".hoogle-class {\n",
       "font-weight: bold;\n",
       "}\n",
       ".get-type {\n",
       "color: green;\n",
       "font-weight: bold;\n",
       "font-family: monospace;\n",
       "display: block;\n",
       "white-space: pre-wrap;\n",
       "}\n",
       ".show-type {\n",
       "color: green;\n",
       "font-weight: bold;\n",
       "font-family: monospace;\n",
       "margin-left: 1em;\n",
       "}\n",
       ".mono {\n",
       "font-family: monospace;\n",
       "display: block;\n",
       "}\n",
       ".err-msg {\n",
       "color: red;\n",
       "font-style: italic;\n",
       "font-family: monospace;\n",
       "white-space: pre;\n",
       "display: block;\n",
       "}\n",
       "#unshowable {\n",
       "color: red;\n",
       "font-weight: bold;\n",
       "}\n",
       ".err-msg.in.collapse {\n",
       "padding-top: 0.7em;\n",
       "}\n",
       ".highlight-code {\n",
       "white-space: pre;\n",
       "font-family: monospace;\n",
       "}\n",
       ".suggestion-warning { \n",
       "font-weight: bold;\n",
       "color: rgb(200, 130, 0);\n",
       "}\n",
       ".suggestion-error { \n",
       "font-weight: bold;\n",
       "color: red;\n",
       "}\n",
       ".suggestion-name {\n",
       "font-weight: bold;\n",
       "}\n",
       "</style><span class='get-type'>max :: forall a. Ord a => a -> a -> a</span>"
      ],
      "text/plain": [
       "max :: forall a. Ord a => a -> a -> a"
      ]
     },
     "execution_count": 12,
     "metadata": {
     },
     "output_type": "execute_result"
    }
   ],
   "source": [
    ":t max"
   ]
  },
  {
   "cell_type": "markdown",
   "metadata": {
    "collapsed": false
   },
   "source": [
    "## Listas"
   ]
  },
  {
   "cell_type": "markdown",
   "metadata": {
    "collapsed": false
   },
   "source": [
    "Las listas son la estructura de datos más utilizada, podría definirse como un contenedor homogéneo (es decir, todos los elementos de la lista deben ser del mismo tipo: caracteres, valores lógicos, números, etc) cuya extensión puede o no ser finita. Crear una lista es tan simple como usar el operador []"
   ]
  },
  {
   "cell_type": "code",
   "execution_count": 13,
   "metadata": {
    "collapsed": false
   },
   "outputs": [
   ],
   "source": [
    "let lista = []\n",
    "let a = [1,3,5,7]\n",
    "let b = [2,4,6,8]"
   ]
  },
  {
   "cell_type": "markdown",
   "metadata": {
    "collapsed": false
   },
   "source": [
    "Entre las operaciones más usadas para las listas, se pueden resaltar las siguientes\n",
    "\n",
    "##### Concatenación\n",
    "\n",
    "Concatenar al inicio de una lista, se coloca el elemento o lista que se quiere concatenar luego de un dos puntos (:) y la lista."
   ]
  },
  {
   "cell_type": "code",
   "execution_count": 14,
   "metadata": {
    "collapsed": false
   },
   "outputs": [
    {
     "data": {
      "text/plain": [
       "[1,1,3,5,7]"
      ]
     },
     "execution_count": 14,
     "metadata": {
     },
     "output_type": "execute_result"
    }
   ],
   "source": [
    "1:a"
   ]
  },
  {
   "cell_type": "markdown",
   "metadata": {
    "collapsed": false
   },
   "source": [
    "Concatener al final de la lista, sólo se pueden concatenar listas al final de otras listas con el operador ++."
   ]
  },
  {
   "cell_type": "code",
   "execution_count": 15,
   "metadata": {
    "collapsed": false
   },
   "outputs": [
    {
     "data": {
      "text/plain": [
       "[1,3,5,7,7,5,3,1]"
      ]
     },
     "execution_count": 15,
     "metadata": {
     },
     "output_type": "execute_result"
    }
   ],
   "source": [
    "a ++ [7,5,3,1]"
   ]
  },
  {
   "cell_type": "markdown",
   "metadata": {
    "collapsed": false
   },
   "source": [
    "##### Extraer un elemento de una posición\n",
    "\n",
    "Se usa el operador !! infijo entre la lista de la que se quiere extraer un elemento y la posición. Hay que tener cuidado con acceder a posiciones que no están definidas, ya que saltarán varios errores."
   ]
  },
  {
   "cell_type": "code",
   "execution_count": 16,
   "metadata": {
    "collapsed": false
   },
   "outputs": [
    {
     "data": {
      "text/plain": [
       "[2,4,6,8]"
      ]
     },
     "execution_count": 16,
     "metadata": {
     },
     "output_type": "execute_result"
    },
    {
     "data": {
      "text/plain": [
       "6"
      ]
     },
     "execution_count": 16,
     "metadata": {
     },
     "output_type": "execute_result"
    }
   ],
   "source": [
    "b\n",
    "b !! 2"
   ]
  },
  {
   "cell_type": "code",
   "execution_count": 17,
   "metadata": {
    "collapsed": false
   },
   "outputs": [
    {
     "data": {
      "text/plain": [
       "[1,3,5,7]"
      ]
     },
     "execution_count": 17,
     "metadata": {
     },
     "output_type": "execute_result"
    },
    {
     "data": {
      "text/plain": [
       "3"
      ]
     },
     "execution_count": 17,
     "metadata": {
     },
     "output_type": "execute_result"
    }
   ],
   "source": [
    "a\n",
    "a !! 1"
   ]
  },
  {
   "cell_type": "markdown",
   "metadata": {
    "collapsed": false
   },
   "source": [
    "#### ¿La lista contiene un determinado elemento?\n",
    "\n",
    "Se usa el operador infijo `elem` entre el elemento buscado y la lista en cuestión. Nótese que es muy importante que la palabra del operador esté entre acentos graves (tildes invertidas)."
   ]
  },
  {
   "cell_type": "code",
   "execution_count": 18,
   "metadata": {
    "collapsed": false
   },
   "outputs": [
    {
     "data": {
      "text/plain": [
       "[1,3,5,7]"
      ]
     },
     "execution_count": 18,
     "metadata": {
     },
     "output_type": "execute_result"
    },
    {
     "data": {
      "text/plain": [
       "False"
      ]
     },
     "execution_count": 18,
     "metadata": {
     },
     "output_type": "execute_result"
    }
   ],
   "source": [
    "a\n",
    "2 `elem` a"
   ]
  },
  {
   "cell_type": "markdown",
   "metadata": {
    "collapsed": false
   },
   "source": [
    "##### ¿La lista está vacía?\n",
    "\n",
    "Para determinar si una lista está vacía se usa el operador null y la lista por evaluar."
   ]
  },
  {
   "cell_type": "code",
   "execution_count": 19,
   "metadata": {
    "collapsed": false
   },
   "outputs": [
    {
     "data": {
      "text/plain": [
       "False"
      ]
     },
     "execution_count": 19,
     "metadata": {
     },
     "output_type": "execute_result"
    }
   ],
   "source": [
    "null [1,2,3]"
   ]
  },
  {
   "cell_type": "code",
   "execution_count": 20,
   "metadata": {
    "collapsed": false
   },
   "outputs": [
    {
     "data": {
      "text/html": [
       "<style>/* Styles used for the Hoogle display in the pager */\n",
       ".hoogle-doc {\n",
       "display: block;\n",
       "padding-bottom: 1.3em;\n",
       "padding-left: 0.4em;\n",
       "}\n",
       ".hoogle-code {\n",
       "display: block;\n",
       "font-family: monospace;\n",
       "white-space: pre;\n",
       "}\n",
       ".hoogle-text {\n",
       "display: block;\n",
       "}\n",
       ".hoogle-name {\n",
       "color: green;\n",
       "font-weight: bold;\n",
       "}\n",
       ".hoogle-head {\n",
       "font-weight: bold;\n",
       "}\n",
       ".hoogle-sub {\n",
       "display: block;\n",
       "margin-left: 0.4em;\n",
       "}\n",
       ".hoogle-package {\n",
       "font-weight: bold;\n",
       "font-style: italic;\n",
       "}\n",
       ".hoogle-module {\n",
       "font-weight: bold;\n",
       "}\n",
       ".hoogle-class {\n",
       "font-weight: bold;\n",
       "}\n",
       ".get-type {\n",
       "color: green;\n",
       "font-weight: bold;\n",
       "font-family: monospace;\n",
       "display: block;\n",
       "white-space: pre-wrap;\n",
       "}\n",
       ".show-type {\n",
       "color: green;\n",
       "font-weight: bold;\n",
       "font-family: monospace;\n",
       "margin-left: 1em;\n",
       "}\n",
       ".mono {\n",
       "font-family: monospace;\n",
       "display: block;\n",
       "}\n",
       ".err-msg {\n",
       "color: red;\n",
       "font-style: italic;\n",
       "font-family: monospace;\n",
       "white-space: pre;\n",
       "display: block;\n",
       "}\n",
       "#unshowable {\n",
       "color: red;\n",
       "font-weight: bold;\n",
       "}\n",
       ".err-msg.in.collapse {\n",
       "padding-top: 0.7em;\n",
       "}\n",
       ".highlight-code {\n",
       "white-space: pre;\n",
       "font-family: monospace;\n",
       "}\n",
       ".suggestion-warning { \n",
       "font-weight: bold;\n",
       "color: rgb(200, 130, 0);\n",
       "}\n",
       ".suggestion-error { \n",
       "font-weight: bold;\n",
       "color: red;\n",
       "}\n",
       ".suggestion-name {\n",
       "font-weight: bold;\n",
       "}\n",
       "</style><div class=\"suggestion-name\" style=\"clear:both;\">Evaluate</div><div class=\"suggestion-row\" style=\"float: left;\"><div class=\"suggestion-warning\">Found:</div><div class=\"highlight-code\" id=\"haskell\">null []</div></div><div class=\"suggestion-row\" style=\"float: left;\"><div class=\"suggestion-warning\">Why Not:</div><div class=\"highlight-code\" id=\"haskell\">True</div></div>"
      ],
      "text/plain": [
       "Line 1: Evaluate\n",
       "Found:\n",
       "null []\n",
       "Why not:\n",
       "True"
      ]
     },
     "execution_count": 20,
     "metadata": {
     },
     "output_type": "execute_result"
    },
    {
     "data": {
      "text/plain": [
       "True"
      ]
     },
     "execution_count": 20,
     "metadata": {
     },
     "output_type": "execute_result"
    }
   ],
   "source": [
    "null []"
   ]
  },
  {
   "cell_type": "markdown",
   "metadata": {
    "collapsed": false
   },
   "source": [
    "##### Sumatorias, productorias, máximos y mínimos de una lista.\n",
    "\n",
    "Siempre que se pueda sumar o multiplicar elementos de una lista (números, para ser precisos) las siguientes funciones pueden ser aplicadas a listas. En general, los elementos de la lista deben ser comparables entre sí."
   ]
  },
  {
   "cell_type": "code",
   "execution_count": 21,
   "metadata": {
    "collapsed": false
   },
   "outputs": [
    {
     "data": {
      "text/plain": [
       "21"
      ]
     },
     "execution_count": 21,
     "metadata": {
     },
     "output_type": "execute_result"
    }
   ],
   "source": [
    "sum [1,2,3,4,5,6]"
   ]
  },
  {
   "cell_type": "code",
   "execution_count": 22,
   "metadata": {
    "collapsed": false
   },
   "outputs": [
    {
     "data": {
      "text/plain": [
       "0"
      ]
     },
     "execution_count": 22,
     "metadata": {
     },
     "output_type": "execute_result"
    }
   ],
   "source": [
    "product [1,2,3,4,0]"
   ]
  },
  {
   "cell_type": "code",
   "execution_count": 23,
   "metadata": {
    "collapsed": false
   },
   "outputs": [
    {
     "data": {
      "text/plain": [
       "2.4"
      ]
     },
     "execution_count": 23,
     "metadata": {
     },
     "output_type": "execute_result"
    }
   ],
   "source": [
    "maximum [2.3, 2.4, 2.399, -2.5]"
   ]
  },
  {
   "cell_type": "code",
   "execution_count": 24,
   "metadata": {
    "collapsed": false
   },
   "outputs": [
    {
     "data": {
      "text/plain": [
       "-2.5"
      ]
     },
     "execution_count": 24,
     "metadata": {
     },
     "output_type": "execute_result"
    }
   ],
   "source": [
    "minimum [2.3, 2.4, 2.399, -2.5]"
   ]
  },
  {
   "cell_type": "markdown",
   "metadata": {
    "collapsed": false
   },
   "source": [
    "##### Partir el pastel\n",
    "\n",
    "Las listas pueden tener una longitud infinita, lo cual se abarcará en el literal siguiente, una función muy útil en este tipo de listas es la de tomar del principio de una lista una cantidad entera de elementos."
   ]
  },
  {
   "cell_type": "code",
   "execution_count": 25,
   "metadata": {
    "collapsed": false
   },
   "outputs": [
    {
     "data": {
      "text/plain": [
       "[1,2,3,4,5]"
      ]
     },
     "execution_count": 25,
     "metadata": {
     },
     "output_type": "execute_result"
    }
   ],
   "source": [
    "take 5 [1,2,3,4,5,6,7,8,9]"
   ]
  },
  {
   "cell_type": "code",
   "execution_count": 26,
   "metadata": {
    "collapsed": false
   },
   "outputs": [
    {
     "data": {
      "text/plain": [
       "[1,2,3,4]"
      ]
     },
     "execution_count": 26,
     "metadata": {
     },
     "output_type": "execute_result"
    }
   ],
   "source": [
    "take 5 [1,2,3,4]"
   ]
  },
  {
   "cell_type": "markdown",
   "metadata": {
    "collapsed": false
   },
   "source": [
    "## Rangos"
   ]
  },
  {
   "cell_type": "markdown",
   "metadata": {
    "collapsed": false
   },
   "source": [
    "Los rangos son una herramienta usada en las listas como una forma de expresar brevemente una sucesión de valores en la misma, inclusive, se usan para declarar listas de extensión infinita.\n",
    "\n",
    "Hay que tener presente que al usar los rangos, si se desea que la lista siga algún patrón en específico, el paso que debe haber en este patrón debe ser fijo, en lo posible evitar usar valores decimales en los rangos ya que suelen ser inexactos, para los rangos se usa el operador \"..\". Esta primera lista es una que contiene infinitos unos, como imprimirlos no es una buena idea, se tomaron 20 elementos de esa lista, note la diferencia con el segundo ejemplo \"noSonUnos\"."
   ]
  },
  {
   "cell_type": "code",
   "execution_count": 27,
   "metadata": {
    "collapsed": false
   },
   "outputs": [
    {
     "data": {
      "text/plain": [
       "[1,1,1,1,1,1,1,1,1,1,1,1,1,1,1,1,1,1,1,1]"
      ]
     },
     "execution_count": 27,
     "metadata": {
     },
     "output_type": "execute_result"
    }
   ],
   "source": [
    "let unos = [1,1..]\n",
    "take 20 unos"
   ]
  },
  {
   "cell_type": "code",
   "execution_count": 28,
   "metadata": {
    "collapsed": false
   },
   "outputs": [
    {
     "data": {
      "text/plain": [
       "[1,2,3,4,5,6,7,8,9,10,11,12,13,14,15,16,17,18,19,20]"
      ]
     },
     "execution_count": 28,
     "metadata": {
     },
     "output_type": "execute_result"
    }
   ],
   "source": [
    "let noSonUnos = [1..]\n",
    "take 20 noSonUnos"
   ]
  },
  {
   "cell_type": "markdown",
   "metadata": {
    "collapsed": false
   },
   "source": [
    "Ahora, se intentará una secuencia aritmética, en concreto, los primeros 20 números pares y los primeros 20 números impares."
   ]
  },
  {
   "cell_type": "code",
   "execution_count": 29,
   "metadata": {
    "collapsed": false
   },
   "outputs": [
    {
     "data": {
      "text/plain": [
       "[2,4,6,8,10,12,14,16,18,20]"
      ]
     },
     "execution_count": 29,
     "metadata": {
     },
     "output_type": "execute_result"
    }
   ],
   "source": [
    "let pares = [2,4..20]\n",
    "pares"
   ]
  },
  {
   "cell_type": "code",
   "execution_count": 30,
   "metadata": {
    "collapsed": false
   },
   "outputs": [
    {
     "data": {
      "text/plain": [
       "[1,3,5,7,9,11,13,15,17,19]"
      ]
     },
     "execution_count": 30,
     "metadata": {
     },
     "output_type": "execute_result"
    }
   ],
   "source": [
    "let impares = [1,3..20]\n",
    "impares"
   ]
  },
  {
   "cell_type": "markdown",
   "metadata": {
    "collapsed": false
   },
   "source": [
    "Píldora de memoria: los pasos en los rangos deben ser uniformes. De lo contrario se obtendrá un error como en la siguiente lista."
   ]
  },
  {
   "cell_type": "code",
   "execution_count": 31,
   "metadata": {
    "collapsed": false
   },
   "outputs": [
    {
     "data": {
      "text/html": [
       "<style>/* Styles used for the Hoogle display in the pager */\n",
       ".hoogle-doc {\n",
       "display: block;\n",
       "padding-bottom: 1.3em;\n",
       "padding-left: 0.4em;\n",
       "}\n",
       ".hoogle-code {\n",
       "display: block;\n",
       "font-family: monospace;\n",
       "white-space: pre;\n",
       "}\n",
       ".hoogle-text {\n",
       "display: block;\n",
       "}\n",
       ".hoogle-name {\n",
       "color: green;\n",
       "font-weight: bold;\n",
       "}\n",
       ".hoogle-head {\n",
       "font-weight: bold;\n",
       "}\n",
       ".hoogle-sub {\n",
       "display: block;\n",
       "margin-left: 0.4em;\n",
       "}\n",
       ".hoogle-package {\n",
       "font-weight: bold;\n",
       "font-style: italic;\n",
       "}\n",
       ".hoogle-module {\n",
       "font-weight: bold;\n",
       "}\n",
       ".hoogle-class {\n",
       "font-weight: bold;\n",
       "}\n",
       ".get-type {\n",
       "color: green;\n",
       "font-weight: bold;\n",
       "font-family: monospace;\n",
       "display: block;\n",
       "white-space: pre-wrap;\n",
       "}\n",
       ".show-type {\n",
       "color: green;\n",
       "font-weight: bold;\n",
       "font-family: monospace;\n",
       "margin-left: 1em;\n",
       "}\n",
       ".mono {\n",
       "font-family: monospace;\n",
       "display: block;\n",
       "}\n",
       ".err-msg {\n",
       "color: red;\n",
       "font-style: italic;\n",
       "font-family: monospace;\n",
       "white-space: pre;\n",
       "display: block;\n",
       "}\n",
       "#unshowable {\n",
       "color: red;\n",
       "font-weight: bold;\n",
       "}\n",
       ".err-msg.in.collapse {\n",
       "padding-top: 0.7em;\n",
       "}\n",
       ".highlight-code {\n",
       "white-space: pre;\n",
       "font-family: monospace;\n",
       "}\n",
       ".suggestion-warning { \n",
       "font-weight: bold;\n",
       "color: rgb(200, 130, 0);\n",
       "}\n",
       ".suggestion-error { \n",
       "font-weight: bold;\n",
       "color: red;\n",
       "}\n",
       ".suggestion-name {\n",
       "font-weight: bold;\n",
       "}\n",
       "</style><span class='err-msg'>Parse error (line 1, column 20): parse error on input ‘..’</span>"
      ],
      "text/plain": [
       "Parse error (line 1, column 20): parse error on input ‘..’"
      ]
     },
     "execution_count": 31,
     "metadata": {
     },
     "output_type": "execute_result"
    }
   ],
   "source": [
    "let primos = [2,3,5..20]"
   ]
  },
  {
   "cell_type": "markdown",
   "metadata": {
    "collapsed": false
   },
   "source": [
    "## Comprensión de listas\n",
    "\n",
    "Al igual que en las matemáticas, que se pueden definir conjuntos por extensión (donde se enumeran todos los elementos del conjunto) y por comprensión (se menciona una característica o regla de formación del conjunto), en Haskell, se pueden declarar listas por comprensión. \n",
    "\n",
    "Se ilustrará mejor este concepto a traves de un ejemplo, la notación en el lenguaje es muy parecida a como se haría en las matemáticas.\n",
    "\n",
    "\n",
    "<img src =\"imgs/cripto.png\" height=\"25\">"
   ]
  },
  {
   "cell_type": "code",
   "execution_count": 0,
   "metadata": {
    "collapsed": false
   },
   "outputs": [
   ],
   "source": [
    "let s = [ 2*x | x <- [0..10] ]\n",
    "s"
   ]
  },
  {
   "cell_type": "markdown",
   "metadata": {
    "collapsed": true
   },
   "source": [
    "El conjunto de salida, o lo que queremos que quede en la lista está antes del operador \"|\" luego del mismo viene la especificación del dominio de la variables y las restricciones separadas por coma. He aquí otros ejemplos."
   ]
  },
  {
   "cell_type": "code",
   "execution_count": 32,
   "metadata": {
    "collapsed": false
   },
   "outputs": [
    {
     "data": {
      "text/plain": [
       "[52,59,66,73,80,87,94]"
      ]
     },
     "execution_count": 32,
     "metadata": {
     },
     "output_type": "execute_result"
    }
   ],
   "source": [
    "let congruenciaModulo7 = [ x | x <- [50..100], x `mod` 7 == 3 ]\n",
    "congruenciaModulo7"
   ]
  },
  {
   "cell_type": "code",
   "execution_count": 33,
   "metadata": {
    "collapsed": false
   },
   "outputs": [
    {
     "data": {
      "text/plain": [
       "[4,5,6,8,10,12,12,15,18]"
      ]
     },
     "execution_count": 33,
     "metadata": {
     },
     "output_type": "execute_result"
    }
   ],
   "source": [
    "let productoCartesiano = [ x * y | x <- [1,2,3], y <- [4,5,6] ]\n",
    "productoCartesiano"
   ]
  },
  {
   "cell_type": "markdown",
   "metadata": {
    "collapsed": false
   },
   "source": [
    "## Tuplas\n",
    "\n",
    "las tuplas, son otra estructura de datos ampliamente usada en Haskell, se diferencian de las mismas en que para las tuplas, se conoce con exactitud la cantidad de elementos que se quieren combinar y su tipo. No necesariamente tienen que ser homogéneas, es decir, en una tupla se puede almacenar un entero, seguido de una cadena y seguido de un real, no obstante, si una tupla con esta combinación está en una lista, todas las demás tuplas que se quieran añadir a esa lista deben tener las mismas características (en este caso de ejemplo: un entero, una cadena y un real).\n",
    "\n",
    "Por razones evidentes, no existen las tuplas de un solo elemento, en este caso se debe usar una lista. Así mismo se pueden realizar comparaciones entre tuplas, siempre que su longutid sea la misma y los tipos de datos en las posiciones de la tupla sean los mismos. A continuación se muestran ejemplos de declaración de tuplas y operaciones con las mismas."
   ]
  },
  {
   "cell_type": "code",
   "execution_count": 34,
   "metadata": {
    "collapsed": false
   },
   "outputs": [
   ],
   "source": [
    "let tupla_a = (1,\"Ejemplo\",1.70)\n",
    "let tupla_b = (2,\"Ejemplo\",1.70)\n",
    "let tupla_c = (1,\"Ejemplo\",1.70)\n",
    "let tupla_d = (2,\"Ejemplo\",1.80)"
   ]
  },
  {
   "cell_type": "code",
   "execution_count": 35,
   "metadata": {
    "collapsed": false
   },
   "outputs": [
    {
     "data": {
      "text/plain": [
       "False"
      ]
     },
     "execution_count": 35,
     "metadata": {
     },
     "output_type": "execute_result"
    }
   ],
   "source": [
    "tupla_a == tupla_b"
   ]
  },
  {
   "cell_type": "code",
   "execution_count": 36,
   "metadata": {
    "collapsed": false
   },
   "outputs": [
    {
     "data": {
      "text/plain": [
       "True"
      ]
     },
     "execution_count": 36,
     "metadata": {
     },
     "output_type": "execute_result"
    }
   ],
   "source": [
    "tupla_a == tupla_c"
   ]
  },
  {
   "cell_type": "code",
   "execution_count": 37,
   "metadata": {
    "collapsed": false
   },
   "outputs": [
    {
     "data": {
      "text/plain": [
       "True"
      ]
     },
     "execution_count": 37,
     "metadata": {
     },
     "output_type": "execute_result"
    }
   ],
   "source": [
    "tupla_a < tupla_b"
   ]
  },
  {
   "cell_type": "code",
   "execution_count": 38,
   "metadata": {
    "collapsed": false
   },
   "outputs": [
    {
     "data": {
      "text/plain": [
       "False"
      ]
     },
     "execution_count": 38,
     "metadata": {
     },
     "output_type": "execute_result"
    }
   ],
   "source": [
    "tupla_b >= tupla_d"
   ]
  },
  {
   "cell_type": "code",
   "execution_count": 39,
   "metadata": {
    "collapsed": false
   },
   "outputs": [
    {
     "data": {
      "text/plain": [
       "True"
      ]
     },
     "execution_count": 39,
     "metadata": {
     },
     "output_type": "execute_result"
    }
   ],
   "source": [
    "tupla_b <= tupla_d"
   ]
  },
  {
   "cell_type": "code",
   "execution_count": 40,
   "metadata": {
    "collapsed": false
   },
   "outputs": [
    {
     "data": {
      "text/plain": [
       "False"
      ]
     },
     "execution_count": 40,
     "metadata": {
     },
     "output_type": "execute_result"
    }
   ],
   "source": [
    "tupla_a /= tupla_c"
   ]
  },
  {
   "cell_type": "markdown",
   "metadata": {
    "collapsed": false
   },
   "source": [
    "##### Comprensión de listas y tuplas\n",
    "\n",
    "¿Qué triángulo rectángulo que tiene aristas de dimensión entera, que todas sean menores a 10 y su perímetro sea 24?"
   ]
  },
  {
   "cell_type": "code",
   "execution_count": 41,
   "metadata": {
    "collapsed": false
   },
   "outputs": [
    {
     "data": {
      "text/plain": [
       "[(10,8,6)]"
      ]
     },
     "execution_count": 41,
     "metadata": {
     },
     "output_type": "execute_result"
    }
   ],
   "source": [
    "let triangulos = [(c,a,b) | c <- [1..10], a<-[1..c], b<-[1..a], a^2 + b^2 == c^2, a+b+c == 24 ]\n",
    "triangulos"
   ]
  },
  {
   "cell_type": "markdown",
   "metadata": {
    "collapsed": false
   },
   "source": [
    "## Tipos y clases de tipos\n",
    "\n",
    "##### Características de los tipos de datos en Haskell:\n",
    "\n",
    "<ul>\n",
    "<li>Estático:<br>\n",
    "El tipo de cada variable es conocido al momento de compilar, lo cual implica código más seguro, debido a que si ocurre algún tipo de error este se reconocerá de igual manera al momento de compilación antes de ejecución.</li>\n",
    "<li>Inferencial:<br>\n",
    "No es necesario especificar el tipo de dato de una variable, Haskell puede inferirlas por su cuenta en nuestras funciones y expresiones. Sin embargo, es importante entender los tipos de dato y como se manejan.</li>\n",
    "</ul>\n",
    "\n",
    "##### Tipos de dato en expresiones y funciones\n",
    "\n",
    "Empleemos las siguientes líneas en Haskell para comprender como se aplican los tipos de datos en Haskell."
   ]
  },
  {
   "cell_type": "code",
   "execution_count": 42,
   "metadata": {
    "collapsed": false
   },
   "outputs": [
    {
     "data": {
      "text/html": [
       "<style>/* Styles used for the Hoogle display in the pager */\n",
       ".hoogle-doc {\n",
       "display: block;\n",
       "padding-bottom: 1.3em;\n",
       "padding-left: 0.4em;\n",
       "}\n",
       ".hoogle-code {\n",
       "display: block;\n",
       "font-family: monospace;\n",
       "white-space: pre;\n",
       "}\n",
       ".hoogle-text {\n",
       "display: block;\n",
       "}\n",
       ".hoogle-name {\n",
       "color: green;\n",
       "font-weight: bold;\n",
       "}\n",
       ".hoogle-head {\n",
       "font-weight: bold;\n",
       "}\n",
       ".hoogle-sub {\n",
       "display: block;\n",
       "margin-left: 0.4em;\n",
       "}\n",
       ".hoogle-package {\n",
       "font-weight: bold;\n",
       "font-style: italic;\n",
       "}\n",
       ".hoogle-module {\n",
       "font-weight: bold;\n",
       "}\n",
       ".hoogle-class {\n",
       "font-weight: bold;\n",
       "}\n",
       ".get-type {\n",
       "color: green;\n",
       "font-weight: bold;\n",
       "font-family: monospace;\n",
       "display: block;\n",
       "white-space: pre-wrap;\n",
       "}\n",
       ".show-type {\n",
       "color: green;\n",
       "font-weight: bold;\n",
       "font-family: monospace;\n",
       "margin-left: 1em;\n",
       "}\n",
       ".mono {\n",
       "font-family: monospace;\n",
       "display: block;\n",
       "}\n",
       ".err-msg {\n",
       "color: red;\n",
       "font-style: italic;\n",
       "font-family: monospace;\n",
       "white-space: pre;\n",
       "display: block;\n",
       "}\n",
       "#unshowable {\n",
       "color: red;\n",
       "font-weight: bold;\n",
       "}\n",
       ".err-msg.in.collapse {\n",
       "padding-top: 0.7em;\n",
       "}\n",
       ".highlight-code {\n",
       "white-space: pre;\n",
       "font-family: monospace;\n",
       "}\n",
       ".suggestion-warning { \n",
       "font-weight: bold;\n",
       "color: rgb(200, 130, 0);\n",
       "}\n",
       ".suggestion-error { \n",
       "font-weight: bold;\n",
       "color: red;\n",
       "}\n",
       ".suggestion-name {\n",
       "font-weight: bold;\n",
       "}\n",
       "</style><span class='get-type'>'a' :: Char</span>"
      ],
      "text/plain": [
       "'a' :: Char"
      ]
     },
     "execution_count": 42,
     "metadata": {
     },
     "output_type": "execute_result"
    },
    {
     "data": {
      "text/html": [
       "<style>/* Styles used for the Hoogle display in the pager */\n",
       ".hoogle-doc {\n",
       "display: block;\n",
       "padding-bottom: 1.3em;\n",
       "padding-left: 0.4em;\n",
       "}\n",
       ".hoogle-code {\n",
       "display: block;\n",
       "font-family: monospace;\n",
       "white-space: pre;\n",
       "}\n",
       ".hoogle-text {\n",
       "display: block;\n",
       "}\n",
       ".hoogle-name {\n",
       "color: green;\n",
       "font-weight: bold;\n",
       "}\n",
       ".hoogle-head {\n",
       "font-weight: bold;\n",
       "}\n",
       ".hoogle-sub {\n",
       "display: block;\n",
       "margin-left: 0.4em;\n",
       "}\n",
       ".hoogle-package {\n",
       "font-weight: bold;\n",
       "font-style: italic;\n",
       "}\n",
       ".hoogle-module {\n",
       "font-weight: bold;\n",
       "}\n",
       ".hoogle-class {\n",
       "font-weight: bold;\n",
       "}\n",
       ".get-type {\n",
       "color: green;\n",
       "font-weight: bold;\n",
       "font-family: monospace;\n",
       "display: block;\n",
       "white-space: pre-wrap;\n",
       "}\n",
       ".show-type {\n",
       "color: green;\n",
       "font-weight: bold;\n",
       "font-family: monospace;\n",
       "margin-left: 1em;\n",
       "}\n",
       ".mono {\n",
       "font-family: monospace;\n",
       "display: block;\n",
       "}\n",
       ".err-msg {\n",
       "color: red;\n",
       "font-style: italic;\n",
       "font-family: monospace;\n",
       "white-space: pre;\n",
       "display: block;\n",
       "}\n",
       "#unshowable {\n",
       "color: red;\n",
       "font-weight: bold;\n",
       "}\n",
       ".err-msg.in.collapse {\n",
       "padding-top: 0.7em;\n",
       "}\n",
       ".highlight-code {\n",
       "white-space: pre;\n",
       "font-family: monospace;\n",
       "}\n",
       ".suggestion-warning { \n",
       "font-weight: bold;\n",
       "color: rgb(200, 130, 0);\n",
       "}\n",
       ".suggestion-error { \n",
       "font-weight: bold;\n",
       "color: red;\n",
       "}\n",
       ".suggestion-name {\n",
       "font-weight: bold;\n",
       "}\n",
       "</style><span class='get-type'>True :: Bool</span>"
      ],
      "text/plain": [
       "True :: Bool"
      ]
     },
     "execution_count": 42,
     "metadata": {
     },
     "output_type": "execute_result"
    },
    {
     "data": {
      "text/html": [
       "<style>/* Styles used for the Hoogle display in the pager */\n",
       ".hoogle-doc {\n",
       "display: block;\n",
       "padding-bottom: 1.3em;\n",
       "padding-left: 0.4em;\n",
       "}\n",
       ".hoogle-code {\n",
       "display: block;\n",
       "font-family: monospace;\n",
       "white-space: pre;\n",
       "}\n",
       ".hoogle-text {\n",
       "display: block;\n",
       "}\n",
       ".hoogle-name {\n",
       "color: green;\n",
       "font-weight: bold;\n",
       "}\n",
       ".hoogle-head {\n",
       "font-weight: bold;\n",
       "}\n",
       ".hoogle-sub {\n",
       "display: block;\n",
       "margin-left: 0.4em;\n",
       "}\n",
       ".hoogle-package {\n",
       "font-weight: bold;\n",
       "font-style: italic;\n",
       "}\n",
       ".hoogle-module {\n",
       "font-weight: bold;\n",
       "}\n",
       ".hoogle-class {\n",
       "font-weight: bold;\n",
       "}\n",
       ".get-type {\n",
       "color: green;\n",
       "font-weight: bold;\n",
       "font-family: monospace;\n",
       "display: block;\n",
       "white-space: pre-wrap;\n",
       "}\n",
       ".show-type {\n",
       "color: green;\n",
       "font-weight: bold;\n",
       "font-family: monospace;\n",
       "margin-left: 1em;\n",
       "}\n",
       ".mono {\n",
       "font-family: monospace;\n",
       "display: block;\n",
       "}\n",
       ".err-msg {\n",
       "color: red;\n",
       "font-style: italic;\n",
       "font-family: monospace;\n",
       "white-space: pre;\n",
       "display: block;\n",
       "}\n",
       "#unshowable {\n",
       "color: red;\n",
       "font-weight: bold;\n",
       "}\n",
       ".err-msg.in.collapse {\n",
       "padding-top: 0.7em;\n",
       "}\n",
       ".highlight-code {\n",
       "white-space: pre;\n",
       "font-family: monospace;\n",
       "}\n",
       ".suggestion-warning { \n",
       "font-weight: bold;\n",
       "color: rgb(200, 130, 0);\n",
       "}\n",
       ".suggestion-error { \n",
       "font-weight: bold;\n",
       "color: red;\n",
       "}\n",
       ".suggestion-name {\n",
       "font-weight: bold;\n",
       "}\n",
       "</style><span class='get-type'>\"HELLO!\" :: [Char]</span>"
      ],
      "text/plain": [
       "\"HELLO!\" :: [Char]"
      ]
     },
     "execution_count": 42,
     "metadata": {
     },
     "output_type": "execute_result"
    },
    {
     "data": {
      "text/html": [
       "<style>/* Styles used for the Hoogle display in the pager */\n",
       ".hoogle-doc {\n",
       "display: block;\n",
       "padding-bottom: 1.3em;\n",
       "padding-left: 0.4em;\n",
       "}\n",
       ".hoogle-code {\n",
       "display: block;\n",
       "font-family: monospace;\n",
       "white-space: pre;\n",
       "}\n",
       ".hoogle-text {\n",
       "display: block;\n",
       "}\n",
       ".hoogle-name {\n",
       "color: green;\n",
       "font-weight: bold;\n",
       "}\n",
       ".hoogle-head {\n",
       "font-weight: bold;\n",
       "}\n",
       ".hoogle-sub {\n",
       "display: block;\n",
       "margin-left: 0.4em;\n",
       "}\n",
       ".hoogle-package {\n",
       "font-weight: bold;\n",
       "font-style: italic;\n",
       "}\n",
       ".hoogle-module {\n",
       "font-weight: bold;\n",
       "}\n",
       ".hoogle-class {\n",
       "font-weight: bold;\n",
       "}\n",
       ".get-type {\n",
       "color: green;\n",
       "font-weight: bold;\n",
       "font-family: monospace;\n",
       "display: block;\n",
       "white-space: pre-wrap;\n",
       "}\n",
       ".show-type {\n",
       "color: green;\n",
       "font-weight: bold;\n",
       "font-family: monospace;\n",
       "margin-left: 1em;\n",
       "}\n",
       ".mono {\n",
       "font-family: monospace;\n",
       "display: block;\n",
       "}\n",
       ".err-msg {\n",
       "color: red;\n",
       "font-style: italic;\n",
       "font-family: monospace;\n",
       "white-space: pre;\n",
       "display: block;\n",
       "}\n",
       "#unshowable {\n",
       "color: red;\n",
       "font-weight: bold;\n",
       "}\n",
       ".err-msg.in.collapse {\n",
       "padding-top: 0.7em;\n",
       "}\n",
       ".highlight-code {\n",
       "white-space: pre;\n",
       "font-family: monospace;\n",
       "}\n",
       ".suggestion-warning { \n",
       "font-weight: bold;\n",
       "color: rgb(200, 130, 0);\n",
       "}\n",
       ".suggestion-error { \n",
       "font-weight: bold;\n",
       "color: red;\n",
       "}\n",
       ".suggestion-name {\n",
       "font-weight: bold;\n",
       "}\n",
       "</style><span class='get-type'>(True, 'a') :: (Bool, Char)</span>"
      ],
      "text/plain": [
       "(True, 'a') :: (Bool, Char)"
      ]
     },
     "execution_count": 42,
     "metadata": {
     },
     "output_type": "execute_result"
    },
    {
     "data": {
      "text/html": [
       "<style>/* Styles used for the Hoogle display in the pager */\n",
       ".hoogle-doc {\n",
       "display: block;\n",
       "padding-bottom: 1.3em;\n",
       "padding-left: 0.4em;\n",
       "}\n",
       ".hoogle-code {\n",
       "display: block;\n",
       "font-family: monospace;\n",
       "white-space: pre;\n",
       "}\n",
       ".hoogle-text {\n",
       "display: block;\n",
       "}\n",
       ".hoogle-name {\n",
       "color: green;\n",
       "font-weight: bold;\n",
       "}\n",
       ".hoogle-head {\n",
       "font-weight: bold;\n",
       "}\n",
       ".hoogle-sub {\n",
       "display: block;\n",
       "margin-left: 0.4em;\n",
       "}\n",
       ".hoogle-package {\n",
       "font-weight: bold;\n",
       "font-style: italic;\n",
       "}\n",
       ".hoogle-module {\n",
       "font-weight: bold;\n",
       "}\n",
       ".hoogle-class {\n",
       "font-weight: bold;\n",
       "}\n",
       ".get-type {\n",
       "color: green;\n",
       "font-weight: bold;\n",
       "font-family: monospace;\n",
       "display: block;\n",
       "white-space: pre-wrap;\n",
       "}\n",
       ".show-type {\n",
       "color: green;\n",
       "font-weight: bold;\n",
       "font-family: monospace;\n",
       "margin-left: 1em;\n",
       "}\n",
       ".mono {\n",
       "font-family: monospace;\n",
       "display: block;\n",
       "}\n",
       ".err-msg {\n",
       "color: red;\n",
       "font-style: italic;\n",
       "font-family: monospace;\n",
       "white-space: pre;\n",
       "display: block;\n",
       "}\n",
       "#unshowable {\n",
       "color: red;\n",
       "font-weight: bold;\n",
       "}\n",
       ".err-msg.in.collapse {\n",
       "padding-top: 0.7em;\n",
       "}\n",
       ".highlight-code {\n",
       "white-space: pre;\n",
       "font-family: monospace;\n",
       "}\n",
       ".suggestion-warning { \n",
       "font-weight: bold;\n",
       "color: rgb(200, 130, 0);\n",
       "}\n",
       ".suggestion-error { \n",
       "font-weight: bold;\n",
       "color: red;\n",
       "}\n",
       ".suggestion-name {\n",
       "font-weight: bold;\n",
       "}\n",
       "</style><span class='get-type'>4 == 5 :: Bool</span>"
      ],
      "text/plain": [
       "4 == 5 :: Bool"
      ]
     },
     "execution_count": 42,
     "metadata": {
     },
     "output_type": "execute_result"
    }
   ],
   "source": [
    ":t 'a'\n",
    ":t True\n",
    ":t \"HELLO!\"\n",
    ":t (True, 'a')\n",
    ":t 4 == 5"
   ]
  },
  {
   "cell_type": "markdown",
   "metadata": {
    "collapsed": false
   },
   "source": [
    "El comando (:t) seguido de cualquier expresión valida nos retorna su tipo. El símbolo (::)  implica que el dato es del tipo referido, así que la lectura del retorno puede interpretarse como: \n",
    "\n",
    "<br><center>(Expresión) “es de tipo” (Tipo)<center><br>\n",
    "\n",
    "Los tipos explícitos son siempre denotados con la primera letra en mayúscula tal como y como puede verse en el primer caso ‘a’, el cual es de tipo Char, así mismo como con ‘True’ es de tipo Bool. Los String en Haskell son listas de tipo Char de manera que el tipo de “HELLO!” es [Char], así que los brackets cuadrados denotan lista. \n",
    "Recordemos que las funciones son el núcleo bajo el cual se trabaja en Haskell, anteriormente no hemos especificado los tipos de datos ya que eran funciones pequeñas, sin embargo, en adelante es buena práctica declarar el tipo de variable que son argumento y retorno de la función. Por ejemplo, tomemos como función la siguiente compresión de lista."
   ]
  },
  {
   "cell_type": "code",
   "execution_count": 43,
   "metadata": {
    "collapsed": false
   },
   "outputs": [
   ],
   "source": [
    "removeNonUppercase :: String -> String\n",
    "removeNonUppercase st = [ c | c <- st, c `elem` ['A'..'Z']]"
   ]
  },
  {
   "cell_type": "markdown",
   "metadata": {
    "collapsed": false
   },
   "source": [
    "Para este caso la lectura de la declaración de tipos se toma como, la función removeNonUppercase tiene tipo String -> String, lo cual implica que recibe como argumento de tipo lista de Char y retorna un valor del mismo tipo. Puede declararse también de la forma\n",
    "\n",
    "Ahora ¿Qué sucede con una función que tiene mas parámetros como entrada? Tomemos como ejemplo una función que recibe tres argumentos y retorne la suma."
   ]
  },
  {
   "cell_type": "code",
   "execution_count": 44,
   "metadata": {
    "collapsed": false
   },
   "outputs": [
   ],
   "source": [
    "addThree :: Int -> Int -> Int -> Int\n",
    "addThree x y z = x + y + z"
   ]
  },
  {
   "cell_type": "markdown",
   "metadata": {
    "collapsed": false
   },
   "source": [
    "La declaración de Int -> Int -> Int puede leerse como la declaración de una función de la forma Int, Int, Int -> Int en cualquier otro lenguaje estándar, es decir, solo el ultimo parámetro se refiere al tipo de dato que retorna la función, los otros tres tipos son el tipo de x, y, z en el orden respectivo.\n",
    "\n",
    "##### Tipos de Variables\n",
    "\n",
    "Las variables en Haskell conocemos que ya pueden ser de diferentes tipos usando el comando ‘:t’, aquí se listan algunos de los más comunes.\n",
    "\n",
    "<ul>\n",
    "<li>Int:<br>\n",
    "Se soporta en Integer. Este tipo de dato toma números estrictamente de tipo entero limitados a 32 bits.</li>\n",
    "<li>Integer:<br>\n",
    "De igual forma se soporta en Integer. Deigual forma toma números estrictamente de tipo entero, pero sin límite de representación, es decir, pueden operarse números enormes, sin embargo, es más óptimo el uso de Int.</li>\n",
    "<li>Float:<br>\n",
    "Números reales de punto flotante de precisión simple.</li>\n",
    "<li>Double:<br>\n",
    "Números reales de punto flotante de precisión doble.</li>\n",
    "<li>Bool:<br>\n",
    "Dato de tipo Booleano. Solo puede tener valores de tipo True o False.</li>\n",
    "<li>Char:<br>\n",
    "Representación de un carácter. Para su denotación se usan comillas simples (‘), una lista de Char se considera un String.</li>\n",
    "</ul>\n",
    "\n",
    "##### Tipo genérico\n",
    "\n",
    "Cuando una función no se le es especificado el tipo de entrada y salida Haskell las toma como genéricas, es decir que puede ser cualquier tipo de dato de los mencionados anteriormente. \n",
    "\n",
    "Gran parte de las funciones internas de Haskell están implementadas de esta forma."
   ]
  },
  {
   "cell_type": "code",
   "execution_count": 45,
   "metadata": {
    "collapsed": false
   },
   "outputs": [
    {
     "data": {
      "text/html": [
       "<style>/* Styles used for the Hoogle display in the pager */\n",
       ".hoogle-doc {\n",
       "display: block;\n",
       "padding-bottom: 1.3em;\n",
       "padding-left: 0.4em;\n",
       "}\n",
       ".hoogle-code {\n",
       "display: block;\n",
       "font-family: monospace;\n",
       "white-space: pre;\n",
       "}\n",
       ".hoogle-text {\n",
       "display: block;\n",
       "}\n",
       ".hoogle-name {\n",
       "color: green;\n",
       "font-weight: bold;\n",
       "}\n",
       ".hoogle-head {\n",
       "font-weight: bold;\n",
       "}\n",
       ".hoogle-sub {\n",
       "display: block;\n",
       "margin-left: 0.4em;\n",
       "}\n",
       ".hoogle-package {\n",
       "font-weight: bold;\n",
       "font-style: italic;\n",
       "}\n",
       ".hoogle-module {\n",
       "font-weight: bold;\n",
       "}\n",
       ".hoogle-class {\n",
       "font-weight: bold;\n",
       "}\n",
       ".get-type {\n",
       "color: green;\n",
       "font-weight: bold;\n",
       "font-family: monospace;\n",
       "display: block;\n",
       "white-space: pre-wrap;\n",
       "}\n",
       ".show-type {\n",
       "color: green;\n",
       "font-weight: bold;\n",
       "font-family: monospace;\n",
       "margin-left: 1em;\n",
       "}\n",
       ".mono {\n",
       "font-family: monospace;\n",
       "display: block;\n",
       "}\n",
       ".err-msg {\n",
       "color: red;\n",
       "font-style: italic;\n",
       "font-family: monospace;\n",
       "white-space: pre;\n",
       "display: block;\n",
       "}\n",
       "#unshowable {\n",
       "color: red;\n",
       "font-weight: bold;\n",
       "}\n",
       ".err-msg.in.collapse {\n",
       "padding-top: 0.7em;\n",
       "}\n",
       ".highlight-code {\n",
       "white-space: pre;\n",
       "font-family: monospace;\n",
       "}\n",
       ".suggestion-warning { \n",
       "font-weight: bold;\n",
       "color: rgb(200, 130, 0);\n",
       "}\n",
       ".suggestion-error { \n",
       "font-weight: bold;\n",
       "color: red;\n",
       "}\n",
       ".suggestion-name {\n",
       "font-weight: bold;\n",
       "}\n",
       "</style><span class='get-type'>head :: forall a. [a] -> a</span>"
      ],
      "text/plain": [
       "head :: forall a. [a] -> a"
      ]
     },
     "execution_count": 45,
     "metadata": {
     },
     "output_type": "execute_result"
    },
    {
     "data": {
      "text/html": [
       "<style>/* Styles used for the Hoogle display in the pager */\n",
       ".hoogle-doc {\n",
       "display: block;\n",
       "padding-bottom: 1.3em;\n",
       "padding-left: 0.4em;\n",
       "}\n",
       ".hoogle-code {\n",
       "display: block;\n",
       "font-family: monospace;\n",
       "white-space: pre;\n",
       "}\n",
       ".hoogle-text {\n",
       "display: block;\n",
       "}\n",
       ".hoogle-name {\n",
       "color: green;\n",
       "font-weight: bold;\n",
       "}\n",
       ".hoogle-head {\n",
       "font-weight: bold;\n",
       "}\n",
       ".hoogle-sub {\n",
       "display: block;\n",
       "margin-left: 0.4em;\n",
       "}\n",
       ".hoogle-package {\n",
       "font-weight: bold;\n",
       "font-style: italic;\n",
       "}\n",
       ".hoogle-module {\n",
       "font-weight: bold;\n",
       "}\n",
       ".hoogle-class {\n",
       "font-weight: bold;\n",
       "}\n",
       ".get-type {\n",
       "color: green;\n",
       "font-weight: bold;\n",
       "font-family: monospace;\n",
       "display: block;\n",
       "white-space: pre-wrap;\n",
       "}\n",
       ".show-type {\n",
       "color: green;\n",
       "font-weight: bold;\n",
       "font-family: monospace;\n",
       "margin-left: 1em;\n",
       "}\n",
       ".mono {\n",
       "font-family: monospace;\n",
       "display: block;\n",
       "}\n",
       ".err-msg {\n",
       "color: red;\n",
       "font-style: italic;\n",
       "font-family: monospace;\n",
       "white-space: pre;\n",
       "display: block;\n",
       "}\n",
       "#unshowable {\n",
       "color: red;\n",
       "font-weight: bold;\n",
       "}\n",
       ".err-msg.in.collapse {\n",
       "padding-top: 0.7em;\n",
       "}\n",
       ".highlight-code {\n",
       "white-space: pre;\n",
       "font-family: monospace;\n",
       "}\n",
       ".suggestion-warning { \n",
       "font-weight: bold;\n",
       "color: rgb(200, 130, 0);\n",
       "}\n",
       ".suggestion-error { \n",
       "font-weight: bold;\n",
       "color: red;\n",
       "}\n",
       ".suggestion-name {\n",
       "font-weight: bold;\n",
       "}\n",
       "</style><span class='get-type'>fst :: forall a b. (a, b) -> a</span>"
      ],
      "text/plain": [
       "fst :: forall a b. (a, b) -> a"
      ]
     },
     "execution_count": 45,
     "metadata": {
     },
     "output_type": "execute_result"
    }
   ],
   "source": [
    ":t head\n",
    ":t fst"
   ]
  },
  {
   "cell_type": "markdown",
   "metadata": {
    "collapsed": false
   },
   "source": [
    "Caso como la función head, la cual toma una lista de cualquier tipo simbolizado por la letra ‘a’, y retorna el primer valor de la lista el cual conservara el tipo ‘a’. Para el caso de la tuplas la función fst realiza la misma función de head de tomar el primer elemento, solo que está restringida para tuplas de dos valores, para tuplas de tamaño superior es necesario programar otra función, no obstante, se observa que la función recibe una tupla que puede contener dos valores de diferente tipo y retorna una con el tipo del primero de la tupla. \n",
    "\n",
    "##### Clases de tipo\n",
    "\n",
    "Una clase de tipo puede considerarse una forma de interfaz que define algún comportamiento. Las restricciones de clase tienen el fin de acotar los tipos tomados de forma genérica y así aplicar la función a valores con los cuales tenga sentido."
   ]
  },
  {
   "cell_type": "code",
   "execution_count": 46,
   "metadata": {
    "collapsed": false
   },
   "outputs": [
    {
     "data": {
      "text/html": [
       "<style>/* Styles used for the Hoogle display in the pager */\n",
       ".hoogle-doc {\n",
       "display: block;\n",
       "padding-bottom: 1.3em;\n",
       "padding-left: 0.4em;\n",
       "}\n",
       ".hoogle-code {\n",
       "display: block;\n",
       "font-family: monospace;\n",
       "white-space: pre;\n",
       "}\n",
       ".hoogle-text {\n",
       "display: block;\n",
       "}\n",
       ".hoogle-name {\n",
       "color: green;\n",
       "font-weight: bold;\n",
       "}\n",
       ".hoogle-head {\n",
       "font-weight: bold;\n",
       "}\n",
       ".hoogle-sub {\n",
       "display: block;\n",
       "margin-left: 0.4em;\n",
       "}\n",
       ".hoogle-package {\n",
       "font-weight: bold;\n",
       "font-style: italic;\n",
       "}\n",
       ".hoogle-module {\n",
       "font-weight: bold;\n",
       "}\n",
       ".hoogle-class {\n",
       "font-weight: bold;\n",
       "}\n",
       ".get-type {\n",
       "color: green;\n",
       "font-weight: bold;\n",
       "font-family: monospace;\n",
       "display: block;\n",
       "white-space: pre-wrap;\n",
       "}\n",
       ".show-type {\n",
       "color: green;\n",
       "font-weight: bold;\n",
       "font-family: monospace;\n",
       "margin-left: 1em;\n",
       "}\n",
       ".mono {\n",
       "font-family: monospace;\n",
       "display: block;\n",
       "}\n",
       ".err-msg {\n",
       "color: red;\n",
       "font-style: italic;\n",
       "font-family: monospace;\n",
       "white-space: pre;\n",
       "display: block;\n",
       "}\n",
       "#unshowable {\n",
       "color: red;\n",
       "font-weight: bold;\n",
       "}\n",
       ".err-msg.in.collapse {\n",
       "padding-top: 0.7em;\n",
       "}\n",
       ".highlight-code {\n",
       "white-space: pre;\n",
       "font-family: monospace;\n",
       "}\n",
       ".suggestion-warning { \n",
       "font-weight: bold;\n",
       "color: rgb(200, 130, 0);\n",
       "}\n",
       ".suggestion-error { \n",
       "font-weight: bold;\n",
       "color: red;\n",
       "}\n",
       ".suggestion-name {\n",
       "font-weight: bold;\n",
       "}\n",
       "</style><span class='get-type'>(==) :: forall a. Eq a => a -> a -> Bool</span>"
      ],
      "text/plain": [
       "(==) :: forall a. Eq a => a -> a -> Bool"
      ]
     },
     "execution_count": 46,
     "metadata": {
     },
     "output_type": "execute_result"
    }
   ],
   "source": [
    ":t (==)"
   ]
  },
  {
   "cell_type": "markdown",
   "metadata": {
    "collapsed": false
   },
   "source": [
    "En el caso del ejemplo la clase de restricción está definida detrás del símbolo => como (Eq a), ‘Eq’ provee una interfaz para realizar comparaciones de igualdad, cualquier tipo que tenga sentido realizar una comparación de igualdad entre dos valores de ese mismo tipo deberían ser miembros de la clase Eq, de manera que la función recibe dos valores del mismo tipo que cumplan la restricción de clase Eq y retorna un valor de tipo Bool. Es posible especificar que una variable contenga mas de una restricción de clase tal como se tiene para la función elem."
   ]
  },
  {
   "cell_type": "code",
   "execution_count": 47,
   "metadata": {
    "collapsed": false
   },
   "outputs": [
    {
     "data": {
      "text/html": [
       "<style>/* Styles used for the Hoogle display in the pager */\n",
       ".hoogle-doc {\n",
       "display: block;\n",
       "padding-bottom: 1.3em;\n",
       "padding-left: 0.4em;\n",
       "}\n",
       ".hoogle-code {\n",
       "display: block;\n",
       "font-family: monospace;\n",
       "white-space: pre;\n",
       "}\n",
       ".hoogle-text {\n",
       "display: block;\n",
       "}\n",
       ".hoogle-name {\n",
       "color: green;\n",
       "font-weight: bold;\n",
       "}\n",
       ".hoogle-head {\n",
       "font-weight: bold;\n",
       "}\n",
       ".hoogle-sub {\n",
       "display: block;\n",
       "margin-left: 0.4em;\n",
       "}\n",
       ".hoogle-package {\n",
       "font-weight: bold;\n",
       "font-style: italic;\n",
       "}\n",
       ".hoogle-module {\n",
       "font-weight: bold;\n",
       "}\n",
       ".hoogle-class {\n",
       "font-weight: bold;\n",
       "}\n",
       ".get-type {\n",
       "color: green;\n",
       "font-weight: bold;\n",
       "font-family: monospace;\n",
       "display: block;\n",
       "white-space: pre-wrap;\n",
       "}\n",
       ".show-type {\n",
       "color: green;\n",
       "font-weight: bold;\n",
       "font-family: monospace;\n",
       "margin-left: 1em;\n",
       "}\n",
       ".mono {\n",
       "font-family: monospace;\n",
       "display: block;\n",
       "}\n",
       ".err-msg {\n",
       "color: red;\n",
       "font-style: italic;\n",
       "font-family: monospace;\n",
       "white-space: pre;\n",
       "display: block;\n",
       "}\n",
       "#unshowable {\n",
       "color: red;\n",
       "font-weight: bold;\n",
       "}\n",
       ".err-msg.in.collapse {\n",
       "padding-top: 0.7em;\n",
       "}\n",
       ".highlight-code {\n",
       "white-space: pre;\n",
       "font-family: monospace;\n",
       "}\n",
       ".suggestion-warning { \n",
       "font-weight: bold;\n",
       "color: rgb(200, 130, 0);\n",
       "}\n",
       ".suggestion-error { \n",
       "font-weight: bold;\n",
       "color: red;\n",
       "}\n",
       ".suggestion-name {\n",
       "font-weight: bold;\n",
       "}\n",
       "</style><span class='get-type'>(elem) :: forall (t :: * -> *) a. (Foldable t, Eq a) => a -> t a -> Bool</span>"
      ],
      "text/plain": [
       "(elem) :: forall (t :: * -> *) a. (Foldable t, Eq a) => a -> t a -> Bool"
      ]
     },
     "execution_count": 47,
     "metadata": {
     },
     "output_type": "execute_result"
    }
   ],
   "source": [
    ":t (elem)"
   ]
  },
  {
   "cell_type": "code",
   "execution_count": 48,
   "metadata": {
    "collapsed": false
   },
   "outputs": [
    {
     "data": {
      "text/plain": [
       "True"
      ]
     },
     "execution_count": 48,
     "metadata": {
     },
     "output_type": "execute_result"
    }
   ],
   "source": [
    "elem 1 [1, 2]"
   ]
  },
  {
   "cell_type": "markdown",
   "metadata": {
    "collapsed": false
   },
   "source": [
    "La función elem pide que el elemento ‘a’ cumpla la restricción de clase de Eq para los dos argumentos de entrada que se tiene, sin embargo, el segundo argumento cumple además la restricción de clase tipo Foldable, es decir, tiene que ser una estructura de datos que pueda ser recogida en un compendio de valores, como una lista. Asi la función se ejecuta de manera correcta tal y como se tiene para el elemento 1 en la lista [1, 2], si ingresamos los elementos en el orden contrario a la función obtendremos un error, debido a que ‘1’ no cumple las condiciones de Foldable.\n",
    "\n",
    "En Haskell se tienen muchos tipos de restricciones de clase y gran parte de las funciones internas inclusive las operaciones hacen uso de ellas, aquí se tiene unos ejemplos. "
   ]
  },
  {
   "cell_type": "code",
   "execution_count": 49,
   "metadata": {
    "collapsed": false
   },
   "outputs": [
    {
     "data": {
      "text/html": [
       "<style>/* Styles used for the Hoogle display in the pager */\n",
       ".hoogle-doc {\n",
       "display: block;\n",
       "padding-bottom: 1.3em;\n",
       "padding-left: 0.4em;\n",
       "}\n",
       ".hoogle-code {\n",
       "display: block;\n",
       "font-family: monospace;\n",
       "white-space: pre;\n",
       "}\n",
       ".hoogle-text {\n",
       "display: block;\n",
       "}\n",
       ".hoogle-name {\n",
       "color: green;\n",
       "font-weight: bold;\n",
       "}\n",
       ".hoogle-head {\n",
       "font-weight: bold;\n",
       "}\n",
       ".hoogle-sub {\n",
       "display: block;\n",
       "margin-left: 0.4em;\n",
       "}\n",
       ".hoogle-package {\n",
       "font-weight: bold;\n",
       "font-style: italic;\n",
       "}\n",
       ".hoogle-module {\n",
       "font-weight: bold;\n",
       "}\n",
       ".hoogle-class {\n",
       "font-weight: bold;\n",
       "}\n",
       ".get-type {\n",
       "color: green;\n",
       "font-weight: bold;\n",
       "font-family: monospace;\n",
       "display: block;\n",
       "white-space: pre-wrap;\n",
       "}\n",
       ".show-type {\n",
       "color: green;\n",
       "font-weight: bold;\n",
       "font-family: monospace;\n",
       "margin-left: 1em;\n",
       "}\n",
       ".mono {\n",
       "font-family: monospace;\n",
       "display: block;\n",
       "}\n",
       ".err-msg {\n",
       "color: red;\n",
       "font-style: italic;\n",
       "font-family: monospace;\n",
       "white-space: pre;\n",
       "display: block;\n",
       "}\n",
       "#unshowable {\n",
       "color: red;\n",
       "font-weight: bold;\n",
       "}\n",
       ".err-msg.in.collapse {\n",
       "padding-top: 0.7em;\n",
       "}\n",
       ".highlight-code {\n",
       "white-space: pre;\n",
       "font-family: monospace;\n",
       "}\n",
       ".suggestion-warning { \n",
       "font-weight: bold;\n",
       "color: rgb(200, 130, 0);\n",
       "}\n",
       ".suggestion-error { \n",
       "font-weight: bold;\n",
       "color: red;\n",
       "}\n",
       ".suggestion-name {\n",
       "font-weight: bold;\n",
       "}\n",
       "</style><span class='get-type'>(*) :: forall a. Num a => a -> a -> a</span>"
      ],
      "text/plain": [
       "(*) :: forall a. Num a => a -> a -> a"
      ]
     },
     "execution_count": 49,
     "metadata": {
     },
     "output_type": "execute_result"
    },
    {
     "data": {
      "text/html": [
       "<style>/* Styles used for the Hoogle display in the pager */\n",
       ".hoogle-doc {\n",
       "display: block;\n",
       "padding-bottom: 1.3em;\n",
       "padding-left: 0.4em;\n",
       "}\n",
       ".hoogle-code {\n",
       "display: block;\n",
       "font-family: monospace;\n",
       "white-space: pre;\n",
       "}\n",
       ".hoogle-text {\n",
       "display: block;\n",
       "}\n",
       ".hoogle-name {\n",
       "color: green;\n",
       "font-weight: bold;\n",
       "}\n",
       ".hoogle-head {\n",
       "font-weight: bold;\n",
       "}\n",
       ".hoogle-sub {\n",
       "display: block;\n",
       "margin-left: 0.4em;\n",
       "}\n",
       ".hoogle-package {\n",
       "font-weight: bold;\n",
       "font-style: italic;\n",
       "}\n",
       ".hoogle-module {\n",
       "font-weight: bold;\n",
       "}\n",
       ".hoogle-class {\n",
       "font-weight: bold;\n",
       "}\n",
       ".get-type {\n",
       "color: green;\n",
       "font-weight: bold;\n",
       "font-family: monospace;\n",
       "display: block;\n",
       "white-space: pre-wrap;\n",
       "}\n",
       ".show-type {\n",
       "color: green;\n",
       "font-weight: bold;\n",
       "font-family: monospace;\n",
       "margin-left: 1em;\n",
       "}\n",
       ".mono {\n",
       "font-family: monospace;\n",
       "display: block;\n",
       "}\n",
       ".err-msg {\n",
       "color: red;\n",
       "font-style: italic;\n",
       "font-family: monospace;\n",
       "white-space: pre;\n",
       "display: block;\n",
       "}\n",
       "#unshowable {\n",
       "color: red;\n",
       "font-weight: bold;\n",
       "}\n",
       ".err-msg.in.collapse {\n",
       "padding-top: 0.7em;\n",
       "}\n",
       ".highlight-code {\n",
       "white-space: pre;\n",
       "font-family: monospace;\n",
       "}\n",
       ".suggestion-warning { \n",
       "font-weight: bold;\n",
       "color: rgb(200, 130, 0);\n",
       "}\n",
       ".suggestion-error { \n",
       "font-weight: bold;\n",
       "color: red;\n",
       "}\n",
       ".suggestion-name {\n",
       "font-weight: bold;\n",
       "}\n",
       "</style><span class='get-type'>(<) :: forall a. Ord a => a -> a -> Bool</span>"
      ],
      "text/plain": [
       "(<) :: forall a. Ord a => a -> a -> Bool"
      ]
     },
     "execution_count": 49,
     "metadata": {
     },
     "output_type": "execute_result"
    }
   ],
   "source": [
    ":t (*)\n",
    ":t (<)"
   ]
  },
  {
   "cell_type": "markdown",
   "metadata": {
    "collapsed": false
   },
   "source": [
    "Para el caso de la multiplicación se tiene que los argumentos de entrada de la operación tienen que ser variables de tipo numérico, lo cual abarca desde Int hasta Double del listado de tipo que mencionamos anteriormente. Y, para que una variable pueda ser comparada esta tiene que ser ordenable, así la operación menor (<) está sujeta a esta restricción de clase."
   ]
  },
  {
   "cell_type": "markdown",
   "metadata": {
    "collapsed": false
   },
   "source": [
    "## Sintaxis en funciones\n",
    "\n",
    "##### Emparejamiento de patrones\n",
    "\n",
    "Una función puede ser definida a partir de cuerpos de diferentes funciones para distintos casos de entradas. \n",
    "Para el funcionamiento del emparejamiento por patrones, se tiene que al momento de recibir una entrada la compara con cada uno de los patrones descritos, en el momento que coincida con alguno de ellos, ejecuta los comandos correspondientes y termina la función."
   ]
  },
  {
   "cell_type": "code",
   "execution_count": 50,
   "metadata": {
    "collapsed": false
   },
   "outputs": [
   ],
   "source": [
    "sayMe :: (Integral a) => a -> String\n",
    "sayMe 1 = \"One!\"\n",
    "sayMe 2 = \"Two!\"\n",
    "sayMe 3 = \"Three!\"\n",
    "sayMe 4 = \"Four!\"\n",
    "sayMe 5 = \"Five!\"\n",
    "sayMe x = \"Not between 1 and 5\""
   ]
  },
  {
   "cell_type": "markdown",
   "metadata": {
    "collapsed": false
   },
   "source": [
    "El emparejamiento de funciones puede verse como una forma de Switch-Case pero mejor, no es necesario declarar el caso default, aunque es buena práctica especificar una salida para todos los posibles valores de entrada con el fin de evitar errores. Así, la función sayMe retornara el valor numérico de la entrada descrito en una cadena de caracteres desde el 1 hasta el 5, para el resto de números solo especificara que se encuentra fuera del rango.\n",
    "\n",
    "La bifurcación de acuerdo al tipo de entrada no es el límite del emparejamiento de funciones, también ser implementada la recursión."
   ]
  },
  {
   "cell_type": "code",
   "execution_count": 51,
   "metadata": {
    "collapsed": false
   },
   "outputs": [
   ],
   "source": [
    "factorial :: (Integral a) => a -> a\n",
    "factorial 0 = 1\n",
    "factorial n = n * factorial(n-1)"
   ]
  },
  {
   "cell_type": "markdown",
   "metadata": {
    "collapsed": false
   },
   "source": [
    "La función factorial se ejecutará de manera recurrente hasta llegar al caso descrito como base, donde la factorial de 0 es 1. El orden es importante en el emparejamiento de patrones, si se hubieran descrito los casos al contrario la función nunca terminaría ya que n tomaría todos los valores incluyendo el ‘0’, impidiendo que entre a su propio caso.\n",
    "\n",
    "También es posible bifurcar de acuerdo a valores de tuplas."
   ]
  },
  {
   "cell_type": "code",
   "execution_count": 52,
   "metadata": {
    "collapsed": false
   },
   "outputs": [
   ],
   "source": [
    "addVectors :: (Num a) => (a, a) -> (a, a) -> (a, a)\n",
    "addVectors (a, b) (c, d) = (a + c, b + d)"
   ]
  },
  {
   "cell_type": "markdown",
   "metadata": {
    "collapsed": false
   },
   "source": [
    "Y con listas. Como ejemplo tomemos la implementación de la función ‘head’."
   ]
  },
  {
   "cell_type": "code",
   "execution_count": 53,
   "metadata": {
    "collapsed": false
   },
   "outputs": [
   ],
   "source": [
    "head' :: [a] -> a\n",
    "head' [] = error \"La lista está vacía, no se puede llamar head\"\n",
    "head' (x:_) = x"
   ]
  },
  {
   "cell_type": "markdown",
   "metadata": {
    "collapsed": false
   },
   "source": [
    "Para el acceso a los valores de la lista se usa el operador ‘:’, recordemos que [x, y] es una forma sintáctica de una lista x:y:[] dentro de Haskell, además, el operador ‘_’ implica que no importan los valores subsiguientes. La función head’ retorna un mensaje en el caso que la lista se encuentre vacía, en caso contrario, toma el primer valor sin importar lo subsiguiente y lo retorna, el mínimo caso para el cual se ejecuta este caso sería para una lista de un elemento x:[]. "
   ]
  },
  {
   "cell_type": "code",
   "execution_count": 54,
   "metadata": {
    "collapsed": false
   },
   "outputs": [
   ],
   "source": [
    "tell :: (Show a) => [a] -> String\n",
    "tell [] = \"La lista está vacía\""
   ]
  },
  {
   "cell_type": "markdown",
   "metadata": {
    "collapsed": false
   },
   "source": [
    "También se pueden tomar y retornar más de un valor concatenado en una lista.\n",
    "\n",
    "La recursión también puede ser usada en listas a partir del emparejamiento de patrones, un ejemplo es la función para hallar la longitud de una lista."
   ]
  },
  {
   "cell_type": "code",
   "execution_count": 55,
   "metadata": {
    "collapsed": false
   },
   "outputs": [
   ],
   "source": [
    "length' :: (Num b) => [a] -> b\n",
    "length' [] = 0\n",
    "length' (_:xs) = 1 + length' xs "
   ]
  },
  {
   "cell_type": "markdown",
   "metadata": {
    "collapsed": false
   },
   "source": [
    "En este caso no nos importa el primer valor de la lista, solo se aumenta un acumulador a medida que ingresamos de nuevo a la función con una nueva lista sin el primer valor de la anterior denominada xs.\n",
    "\n",
    "##### Guardias\n",
    "\n",
    "Los guardias son funciones que también bifurcan de acuerdo al valor de entrada, no obstante, en este caso se permite aplicar expresiones sobre los valores de entrada y bifurcar de acuerdo a comparaciones lógicas."
   ]
  },
  {
   "cell_type": "code",
   "execution_count": 56,
   "metadata": {
    "collapsed": false
   },
   "outputs": [
   ],
   "source": [
    "bmiTell :: (RealFloat a) => a -> String\n",
    "bmiTell bmi\n",
    "     | bmi <= 18.5 = \"Por debajo del índice de masa corporal.\"\n",
    "     | bmi <= 25.0 = \"índice de masa corporal normal.\"\n",
    "     | bmi <= 30.0 = \"Levemente por encima del índice de masa corporal estándar.\"\n",
    "     | otherwise = \"Obesidad.\""
   ]
  },
  {
   "cell_type": "markdown",
   "metadata": {
    "collapsed": false
   },
   "source": [
    "En resumen, un guardia puede interpretarse que funciona bajo el mismo concepto que el emparejamiento de parejas, solo que se permite mayor flexibilidad respecto a las condiciones de bifurcación, no es necesario repetir en cada caso el nombre de la función, el símbolo ‘|’ indica la separación de cada caso y por último la palabra reservada ‘otherwise’ representa el caso por default de la expresión.\n",
    "\n",
    "A los guardias puede agregarse el comando opcional “where”, este permite la declaración de variables que pueden ser usadas en todo el cuerpo de la función sin importar el caso, con el objetivo de evitar la repetición de expresión que se usan de manera continua durante la selección de un caso o declarar constantes."
   ]
  },
  {
   "cell_type": "code",
   "execution_count": 57,
   "metadata": {
    "collapsed": false
   },
   "outputs": [
   ],
   "source": [
    "bmiTell' :: (RealFloat a) => a -> a -> String\n",
    "bmiTell' weight height\n",
    "    | bmi <= skinny = \"You're underweight, you emo, you!\"\n",
    "    | bmi <= normal = \"You're supposedly normal. Pffft, I bet you're ugly!\"\n",
    "    | bmi <= fat = \"You're fat! Lose some weight, fatty!\"\n",
    "    | otherwise = \"You're a whale, congratulations!\"\n",
    "    where bmi = weight / ( height ^ 2 )\n",
    "skinny = 18.5\n",
    "normal = 25.0\n",
    "fat = 30.0"
   ]
  },
  {
   "cell_type": "markdown",
   "metadata": {
    "collapsed": false
   },
   "source": [
    "Los nombres que se definen en esta sección corresponden solo a esta y no es necesario preocuparse de estar reutilizando o modificando variables de otras funciones. Es importante notar que se mantiene la identación de las variables definidas dentro del where, asi Haskell reconoce el bloque, de manera que es necesario mantenerla para evitar errores.\n",
    "\n",
    "##### Let In\n",
    "\n",
    "De manera análoga al “where” usado para crear variables y usarlas en los guardias, existe el Let..in, no obstante este aplica de forma más general sobre cualquier expresión, a diferencia del “where” que solo es usado en el mismo guardia. La estructura general del Let.. in es:\n",
    "\n",
    "Let &lt;bidings&gt; in &lt;expresions&gt;\n",
    "\n",
    "Aplicado sobre una función estándar para hallar el área de un cilindro."
   ]
  },
  {
   "cell_type": "code",
   "execution_count": 58,
   "metadata": {
    "collapsed": false
   },
   "outputs": [
   ],
   "source": [
    "cylinder :: (RealFloat a) => a -> a -> a\n",
    "cylinder r h =\n",
    "     let sideArea = 2 * pi * r * h\n",
    "         topArea = pi * r ^ 2\n",
    "     in sideArea + 2 * topArea"
   ]
  },
  {
   "cell_type": "markdown",
   "metadata": {
    "collapsed": false
   },
   "source": [
    "El Let..in puede usar en expresiones simples, como realizar operaciones rápidas sobre una tupla"
   ]
  },
  {
   "cell_type": "code",
   "execution_count": 59,
   "metadata": {
    "collapsed": false
   },
   "outputs": [
    {
     "data": {
      "text/plain": [
       "600"
      ]
     },
     "execution_count": 59,
     "metadata": {
     },
     "output_type": "execute_result"
    }
   ],
   "source": [
    "(let (a,b,c) = (1,2,3) in a+b+c) * 100"
   ]
  },
  {
   "cell_type": "markdown",
   "metadata": {
    "collapsed": false
   },
   "source": [
    "E incluso para la compresión de una lista."
   ]
  },
  {
   "cell_type": "code",
   "execution_count": 60,
   "metadata": {
    "collapsed": false
   },
   "outputs": [
   ],
   "source": [
    "calcBmis :: (RealFloat a) => [(a, a)] -> [a]\n",
    "calcBmis xs = [bmi | (w, h) <- xs, let bmi = w / h ^ 2, bmi >= 25.0]"
   ]
  },
  {
   "cell_type": "markdown",
   "metadata": {
    "collapsed": false
   },
   "source": [
    "Siempre las condiciones descritas en la sección let se aplica a las expresiones subsiguientes, en el caso de la compresión solo las condiciones siguientes a la declaración del let reconocerán las variables que hayan sido listadas."
   ]
  },
  {
   "cell_type": "markdown",
   "metadata": {
    "collapsed": false
   },
   "source": [
    "## Recursión\n",
    "\n",
    "La recursión en Haskell se trata como se trataría en cualquier otro lenguaje. En éste lenguaje no existen los ciclos, por lo tanto estamos obligados a implementar todos nuestros algoritmos iterativos con recursividad.\n",
    "\n",
    "Veamos el siguiente ejemplo: esta es una función recursiva que encuentra el máximo elemento de una lista. "
   ]
  },
  {
   "cell_type": "code",
   "execution_count": 61,
   "metadata": {
    "collapsed": false
   },
   "outputs": [
   ],
   "source": [
    "maximum' :: ( Ord a ) => [ a ] -> a  \n",
    "maximum' [] = error \"¡La lista está vacía!\"  \n",
    "maximum' [ x ] = x  \n",
    "maximum' ( x : xs )   \n",
    "    | x > maxTail = x  \n",
    "    | otherwise = maxTail  \n",
    "    where maxTail = maximum' xs  "
   ]
  },
  {
   "cell_type": "markdown",
   "metadata": {
    "collapsed": false
   },
   "source": [
    "La función está definida para que reciba una lista de elementos de tipo <b>a</b> y retorne alguno de estos elementos, también de tipo <b>a</b>. No olvide el hecho de que <b>a</b> es una instancia de <b>Ord</b> por lo tanto un elemento de éste tipo puede ser ordenable, en otras palabras comparable.\n",
    "\n",
    "Bajo el diseño \"emparejamiento de patrones\" esta función determina que debe arrojarse un error cuando la lista esté vacía, cuando la lista tenga un único elemento debe retornarse éste elemento como el máximo de la lista, y finalmente tenemos el patrón más interesante:\n",
    "\n",
    "Luego del nombre de la función (maximum’) tenemos una descomposición de la lista ( x : xs ), esto quiere decir que la lista se separó en 2 partes, cabeza y cola, el primer elemento (x) y el resto de los elementos (xs) respectivamente. Éste patrón está definido bajo la sintaxis de “guardias”, donde en el primer guardia se pregunta si la cabeza de la lista es mayor que maxTail, en caso de ser cierto se retornará la cabeza como el mayor elemento, de otro modo se retornará maxTail, pero, ¿Qué es maxTail?, maxTail está definido mediante la palabra reservada <b>where</b>, cuyo resultado será lo que retorne la función maximum’ al recibir como parámetro la cola (la lista sin su cabeza).\n",
    "\n",
    "##### Replicando elementos\n",
    "\n",
    "No es extraño necesitar una lista con un único elemento repetido varias veces, ¿No ha tenido la necesidad de copiar un elemento varias veces?, pues la función replicate es la solución."
   ]
  },
  {
   "cell_type": "code",
   "execution_count": 62,
   "metadata": {
    "collapsed": false
   },
   "outputs": [
   ],
   "source": [
    "replicate' :: ( Num i, Ord i ) => i -> a -> [ a ]  \n",
    "replicate' n x  \n",
    "    | n <= 0    = []  \n",
    "    | otherwise = x : replicate' ( n - 1 ) x"
   ]
  },
  {
   "cell_type": "markdown",
   "metadata": {
    "collapsed": false
   },
   "source": [
    "Note que la función se define para que reciba un parámetro numérico y ordenable, además de un elemento que es el que se replicará en una lista con elementos del mismo tipo.\n",
    "\n",
    "En caso de que la función reciba como parámetro numérico un número menor o igual a 0 se retornará una lista vacía, de otro modo se retornará una lista donde la cabeza será el parámetro llamado <b>x</b> y la cola estará definida por el llamado a la misma función replicate’, en este caso con <b>n</b> decrementado en 1 y el mismo parámetro <b>x</b>.\n",
    "\n",
    "##### Usando el operador \"no me importa\"\n",
    "\n",
    "Sí, es una manera de llamarlo, a veces no nos importa qué parámetros recibe la función, sólo necesitamos conocer alguno de ellos para saber qué debemos retornar, veamos este ejemplo"
   ]
  },
  {
   "cell_type": "code",
   "execution_count": 63,
   "metadata": {
    "collapsed": false
   },
   "outputs": [
   ],
   "source": [
    "zip' :: [ a ] -> [ b ] -> [ ( a, b ) ]  \n",
    "zip' _ [] = []  \n",
    "zip' [] _ = []  \n",
    "zip' ( x : xs ) ( y : ys ) = ( x, y ) : zip' xs ys"
   ]
  },
  {
   "cell_type": "markdown",
   "metadata": {
    "collapsed": false
   },
   "source": [
    "Ésta función denominada zip’ recibe dos listas, ambas de cualquier tipo de elementos no necesariamente iguales y retornará una lista de tuplas, cada tupla corresponderá al n-ésimo elemento de la primer lista emparejado con el n-ésimo elemento de la segunda lista.\n",
    "\n",
    "Y ¿para qué se usa el símbolo “_”?, bueno, lo que queremos decirle a Haskell en los dos primeros patrones es que no nos importa qué lista viene en el primer o segundo parámetro, si se quiere emparejar una lista vacía con cualquier otra lista se debe retornar una lista vacía.\n",
    "\n",
    "Cuando ninguna de las dos lista está vacía se descomponen en cabeza y cola (ambas) y se empareja la tupla de cabezas y luego se llama a la función zip’ con las colas como argumentos para que siga con el proceso.\n",
    "\n",
    "##### ¿Una función más complicada? ¡Quicksort!\n",
    "\n",
    "En algunos lenguajes es relativamente difícil implementar un algoritmo de ordenamiento QuickSort, con “difícil” me refiero al número de líneas que puede demandar implementar dicho algoritmo. En Haskell… bueno, sólo bastaron 6 líneas."
   ]
  },
  {
   "cell_type": "code",
   "execution_count": 64,
   "metadata": {
    "collapsed": false
   },
   "outputs": [
   ],
   "source": [
    "quicksort :: ( Ord a ) => [ a ] -> [ a ]  \n",
    "quicksort [] = []  \n",
    "quicksort ( x : xs ) =   \n",
    "    let smallerSorted = quicksort [ a | a <- xs, a <= x ]  \n",
    "        biggerSorted = quicksort [ a | a <- xs, a > x ]  \n",
    "    in  smallerSorted ++ [ x ] ++ biggerSorted"
   ]
  },
  {
   "cell_type": "markdown",
   "metadata": {
    "collapsed": false
   },
   "source": [
    "Bajo la sintaxis let-in le decimos a Haskell que definiremos dos variables: smallerSorted y biggerSorted, cada una de ellas mediante listas por compresión se define como una lista o bien con los elementos menores o iguales al pivote o mayores estrictamente, finalmente en el in hacemos la respectiva concatenación de las listas."
   ]
  },
  {
   "cell_type": "markdown",
   "metadata": {
    "collapsed": false
   },
   "source": [
    "## Funciones de orden superior"
   ]
  },
  {
   "cell_type": "markdown",
   "metadata": {
    "collapsed": false
   },
   "source": [
    "Las funciones en Haskell pueden tomar como parámetros funciones a su vez pueden retornar funciones, a éstas funciones se les conoce como funciones de orden superior.\n",
    "\n",
    "¿Cómo se especifica en la definición de una función que se tomará como parámetro una función? Primero veamos una función de orden superior."
   ]
  },
  {
   "cell_type": "code",
   "execution_count": 65,
   "metadata": {
    "collapsed": false
   },
   "outputs": [
   ],
   "source": [
    "multiplicaTres:: ( Num a ) => a -> a -> a -> a  \n",
    "multiplicaTres x y z = x * y * z"
   ]
  },
  {
   "cell_type": "markdown",
   "metadata": {
    "collapsed": false
   },
   "source": [
    "¿Acaso no es una función como las definidas anteriormente? Sí.\n",
    "Escribámosla de otra manera"
   ]
  },
  {
   "cell_type": "code",
   "execution_count": 66,
   "metadata": {
    "collapsed": false
   },
   "outputs": [
   ],
   "source": [
    "multiplicaTres :: ( Num a ) => a -> ( a -> ( a -> a ) )\n",
    "multiplicaTres x y z = x * y * z"
   ]
  },
  {
   "cell_type": "markdown",
   "metadata": {
    "collapsed": false
   },
   "source": [
    "Y, ¿cuál es la diferencia? Ninguna.\n",
    "Ambas definiciones expresan lo mismo, solo que, cuando se omiten los paréntesis Haskell los asume por defecto, en otras palabras, el operador “->” significa retorno, y es asociativo por la derecha, con el siguiente ejemplo se entiende mejor:\n",
    "\n",
    "¿Cuál es la diferencia entre estas expresiones?\n",
    "<ul>\n",
    "<li>1 + 2 + 3 + 4 + 5</li>\n",
    "<li>1 + ( 2 + ( 3 + ( 4 + 5 ) ) )</li>\n",
    "</ul>\n",
    "\n",
    "Exacto, los paréntesis, sus resultados son iguales.\n",
    "\n",
    "Ya que el operador “->” significa retorno, ¿qué significa esta expresión?"
   ]
  },
  {
   "cell_type": "markdown",
   "metadata": {
    "collapsed": false
   },
   "source": [
    "multiplicaTres :: ( Num a ) => a -> ( a -> ( a -> a ) )"
   ]
  },
  {
   "cell_type": "markdown",
   "metadata": {
    "collapsed": false
   },
   "source": [
    "Vamos a fraccionar la expresión\n",
    "\n",
    "multiplicaTres = a -> ( algo )<br>\n",
    "algo = a -> ( otro_algo )<br>\n",
    "otro_algo = a -> a<br>\n",
    "\n",
    "Leamos de abajo hacia arriba.\n",
    "\n",
    "<b>otro_algo</b> es una función que recibe un parámetro de tipo <b>a</b> y retorna un elemento de tipo <b>a</b>, esto quiere decir que <b>algo</b> es una función que recibe un parámetro de tipo <b>a</b> y retorna a <b>otro_algo</b>, finalmente tenemos que <b>multiplicaTres</b> es una función que recibe un parámetro <b>a</b> y retorna <b>algo</b>, ¿qué significa esta sopa de letras? Significa que cada uno de estos parámetros, luego de ser leídos, retornará una función y en última instancia el valor de retorno, el retorno de <b>otro_algo</b> específicamente.\n",
    "\n",
    "Veamos el siguiente ejemplo para aclarar el concepto"
   ]
  },
  {
   "cell_type": "code",
   "execution_count": 67,
   "metadata": {
    "collapsed": false
   },
   "outputs": [
    {
     "data": {
      "text/plain": [
       "54"
      ]
     },
     "execution_count": 67,
     "metadata": {
     },
     "output_type": "execute_result"
    }
   ],
   "source": [
    "let multiplicaDosConNueve = multiplicaTres 9\n",
    "multiplicaDosConNueve 2 3"
   ]
  },
  {
   "cell_type": "code",
   "execution_count": 68,
   "metadata": {
    "collapsed": false
   },
   "outputs": [
    {
     "data": {
      "text/plain": [
       "180"
      ]
     },
     "execution_count": 68,
     "metadata": {
     },
     "output_type": "execute_result"
    }
   ],
   "source": [
    "let multiplicaConOcho = multiplicaDosConNueve 2\n",
    "multiplicaConOcho 10"
   ]
  },
  {
   "cell_type": "markdown",
   "metadata": {
    "collapsed": false
   },
   "source": [
    "¿En serio compila? Sí.\n",
    "\n",
    "Como mencionamos anteriormente la función <b>multiplicaTres</b> necesita un parámetro para retornar una función, y efectivamente la función fue retornada, además se almacenó en <b>multiplicaDosConNueve</b>. \n",
    "\n",
    "Es por esto que llamamos <b>multiplicaDosConNueve 2 3</b> y Haskell imprime 54.\n",
    "\n",
    "¿Por qué el siguiente código no funciona?"
   ]
  },
  {
   "cell_type": "code",
   "execution_count": 69,
   "metadata": {
    "collapsed": false
   },
   "outputs": [
    {
     "data": {
      "text/html": [
       "<style>/* Styles used for the Hoogle display in the pager */\n",
       ".hoogle-doc {\n",
       "display: block;\n",
       "padding-bottom: 1.3em;\n",
       "padding-left: 0.4em;\n",
       "}\n",
       ".hoogle-code {\n",
       "display: block;\n",
       "font-family: monospace;\n",
       "white-space: pre;\n",
       "}\n",
       ".hoogle-text {\n",
       "display: block;\n",
       "}\n",
       ".hoogle-name {\n",
       "color: green;\n",
       "font-weight: bold;\n",
       "}\n",
       ".hoogle-head {\n",
       "font-weight: bold;\n",
       "}\n",
       ".hoogle-sub {\n",
       "display: block;\n",
       "margin-left: 0.4em;\n",
       "}\n",
       ".hoogle-package {\n",
       "font-weight: bold;\n",
       "font-style: italic;\n",
       "}\n",
       ".hoogle-module {\n",
       "font-weight: bold;\n",
       "}\n",
       ".hoogle-class {\n",
       "font-weight: bold;\n",
       "}\n",
       ".get-type {\n",
       "color: green;\n",
       "font-weight: bold;\n",
       "font-family: monospace;\n",
       "display: block;\n",
       "white-space: pre-wrap;\n",
       "}\n",
       ".show-type {\n",
       "color: green;\n",
       "font-weight: bold;\n",
       "font-family: monospace;\n",
       "margin-left: 1em;\n",
       "}\n",
       ".mono {\n",
       "font-family: monospace;\n",
       "display: block;\n",
       "}\n",
       ".err-msg {\n",
       "color: red;\n",
       "font-style: italic;\n",
       "font-family: monospace;\n",
       "white-space: pre;\n",
       "display: block;\n",
       "}\n",
       "#unshowable {\n",
       "color: red;\n",
       "font-weight: bold;\n",
       "}\n",
       ".err-msg.in.collapse {\n",
       "padding-top: 0.7em;\n",
       "}\n",
       ".highlight-code {\n",
       "white-space: pre;\n",
       "font-family: monospace;\n",
       "}\n",
       ".suggestion-warning { \n",
       "font-weight: bold;\n",
       "color: rgb(200, 130, 0);\n",
       "}\n",
       ".suggestion-error { \n",
       "font-weight: bold;\n",
       "color: red;\n",
       "}\n",
       ".suggestion-name {\n",
       "font-weight: bold;\n",
       "}\n",
       "</style><span class='err-msg'>&lt;interactive&gt;:1:1: error:<br/>    • No instance for (Show (Integer -&gt; Integer -&gt; Integer)) arising from a use of ‘print’<br/>        (maybe you haven't applied a function to enough arguments?)<br/>    • In a stmt of an interactive GHCi command: print it</span>"
      ],
      "text/plain": [
       "<interactive>:1:1: error:\n",
       "    • No instance for (Show (Integer -> Integer -> Integer)) arising from a use of ‘print’\n",
       "        (maybe you haven't applied a function to enough arguments?)\n",
       "    • In a stmt of an interactive GHCi command: print it"
      ]
     },
     "execution_count": 69,
     "metadata": {
     },
     "output_type": "execute_result"
    }
   ],
   "source": [
    "multiplicaTres 9"
   ]
  },
  {
   "cell_type": "markdown",
   "metadata": {
    "collapsed": false
   },
   "source": [
    "Parece contradictorio, pero no lo es. Al ejecutar esta línea de código Haskell llama al método <b>show</b> para imprimir el valor de retorno de lo que sea que se haya ejecutado, pero al tratar de convertir ésta función retornada a un String Haskell no tiene la menor idea de cómo hacerlo, ¿Acaso tú sí?.\n",
    "\n",
    "##### Funciones como parámetros\n",
    "\n",
    "Ahora sí podemos definir cómo se especifica en la definición de una función que se recibirá una función como parámetro.\n",
    "\n",
    "Retomando la expresión fraccionada anteriormente,\n",
    "\n",
    "    otro_algo = a -> a\n",
    "\n",
    "podemos decir que <b>otro_algo</b> es una función, entonces simplemente ¡escribámosla como parámetro!"
   ]
  },
  {
   "cell_type": "code",
   "execution_count": 70,
   "metadata": {
    "collapsed": false
   },
   "outputs": [
   ],
   "source": [
    "aplicarDosVeces :: ( a -> a ) -> a -> a  \n",
    "aplicarDosVeces f x = f ( f x )"
   ]
  },
  {
   "cell_type": "markdown",
   "metadata": {
    "collapsed": false
   },
   "source": [
    "Hemos definido una función llamada <b>aplicarDosVeces</b> que aplicará una función <b>f</b> a una parámetro <b>x</b> dos veces, pero concentrémonos en la definición, podemos ver que la definición de la función comienza con ( a -> a ) esto significa que <b>aplicarDosVeces</b> recibirá como parámetro una función que necesita un parámetro para retornar un resultado.\n",
    "\n",
    "Vamos a usarla"
   ]
  },
  {
   "cell_type": "code",
   "execution_count": 71,
   "metadata": {
    "collapsed": false
   },
   "outputs": [
    {
     "data": {
      "text/plain": [
       "11"
      ]
     },
     "execution_count": 71,
     "metadata": {
     },
     "output_type": "execute_result"
    }
   ],
   "source": [
    "aplicarDosVeces (+3) 5"
   ]
  },
  {
   "cell_type": "code",
   "execution_count": 0,
   "metadata": {
    "collapsed": false
   },
   "outputs": [
   ],
   "source": [
    "aplicarDosVeces succ 7"
   ]
  },
  {
   "cell_type": "markdown",
   "metadata": {
    "collapsed": false
   },
   "source": [
    "## Cálculo Lambda(${\\lambda}$)\n",
    "Una de las características más importantes de haskell que fue mencionada en un principio es que su ejecución consiste en **evaluar funciones matemáticas**. Esta definición es un poco ambigua, por lo que para ampliar un poco este concepto vamos a referirnos al Cálculo Lambda y como este de alguna forma es la base de Haskell\n",
    "### Definición\n",
    "Es una teoría matemática de la computación que involucra funciones lámbda. Algo importante a mencionar es el hecho de que Cálculo Lambda ${\\equiv}$ Máquina de Turing.\n",
    "\n",
    "* Función Lambda: Es la base del cálculo lambda y define un conjunto de operaciones computables.\n",
    "\n",
    "Dicho esto, procederemos a introducir los conceptos de Cálculo Lambda y su relacción con Haskell a través de ejemplos.\n",
    "### Conceptos\n",
    "#### Notación\n",
    "Por ejemplo, si se tiene ${f(x) = x^{2}}$, una función matemática, su expresión lambda se denota así: ${\\lambda x.x^{2}}$. \n",
    "\n",
    "Vamos a mencionar dos cosas importantes de la notación:\n",
    "1. Las variables acompañadas del símbolo lambda(${\\lambda}$) son las entradas. Estas son separadas por un punto(${\\cdot}$).\n",
    "2. El último elemento que aparece despues de un punto corresponde a como debe evaluarse la función.\n",
    "\n",
    "En haskell el equivalente a esto es:"
   ]
  },
  {
   "cell_type": "code",
   "execution_count": 72,
   "metadata": {
    "collapsed": false
   },
   "outputs": [
   ],
   "source": [
    "f x = x^2"
   ]
  },
  {
   "cell_type": "markdown",
   "metadata": {
    "collapsed": false
   },
   "source": [
    "Hasta el momento tenemos la definición de la función, pero falta evaluarla.\n",
    "\n",
    "En el cálculo lámbda evaluar una función corresponde a la siguiente operación: ${(\\lambda x.x^{2})10}$\n",
    "\n",
    "En este caso estamos básicamente sustituyendo x en la función. En Haskell la notación para esto es muy similar"
   ]
  },
  {
   "cell_type": "code",
   "execution_count": 73,
   "metadata": {
    "collapsed": false
   },
   "outputs": [
    {
     "data": {
      "text/html": [
       "<style>/* Styles used for the Hoogle display in the pager */\n",
       ".hoogle-doc {\n",
       "display: block;\n",
       "padding-bottom: 1.3em;\n",
       "padding-left: 0.4em;\n",
       "}\n",
       ".hoogle-code {\n",
       "display: block;\n",
       "font-family: monospace;\n",
       "white-space: pre;\n",
       "}\n",
       ".hoogle-text {\n",
       "display: block;\n",
       "}\n",
       ".hoogle-name {\n",
       "color: green;\n",
       "font-weight: bold;\n",
       "}\n",
       ".hoogle-head {\n",
       "font-weight: bold;\n",
       "}\n",
       ".hoogle-sub {\n",
       "display: block;\n",
       "margin-left: 0.4em;\n",
       "}\n",
       ".hoogle-package {\n",
       "font-weight: bold;\n",
       "font-style: italic;\n",
       "}\n",
       ".hoogle-module {\n",
       "font-weight: bold;\n",
       "}\n",
       ".hoogle-class {\n",
       "font-weight: bold;\n",
       "}\n",
       ".get-type {\n",
       "color: green;\n",
       "font-weight: bold;\n",
       "font-family: monospace;\n",
       "display: block;\n",
       "white-space: pre-wrap;\n",
       "}\n",
       ".show-type {\n",
       "color: green;\n",
       "font-weight: bold;\n",
       "font-family: monospace;\n",
       "margin-left: 1em;\n",
       "}\n",
       ".mono {\n",
       "font-family: monospace;\n",
       "display: block;\n",
       "}\n",
       ".err-msg {\n",
       "color: red;\n",
       "font-style: italic;\n",
       "font-family: monospace;\n",
       "white-space: pre;\n",
       "display: block;\n",
       "}\n",
       "#unshowable {\n",
       "color: red;\n",
       "font-weight: bold;\n",
       "}\n",
       ".err-msg.in.collapse {\n",
       "padding-top: 0.7em;\n",
       "}\n",
       ".highlight-code {\n",
       "white-space: pre;\n",
       "font-family: monospace;\n",
       "}\n",
       ".suggestion-warning { \n",
       "font-weight: bold;\n",
       "color: rgb(200, 130, 0);\n",
       "}\n",
       ".suggestion-error { \n",
       "font-weight: bold;\n",
       "color: red;\n",
       "}\n",
       ".suggestion-name {\n",
       "font-weight: bold;\n",
       "}\n",
       "</style><div class=\"suggestion-name\" style=\"clear:both;\">Avoid lambda</div><div class=\"suggestion-row\" style=\"float: left;\"><div class=\"suggestion-warning\">Found:</div><div class=\"highlight-code\" id=\"haskell\">\\ x -> x ^ 2</div></div><div class=\"suggestion-row\" style=\"float: left;\"><div class=\"suggestion-warning\">Why Not:</div><div class=\"highlight-code\" id=\"haskell\">(^ 2)</div></div>"
      ],
      "text/plain": [
       "Line 1: Avoid lambda\n",
       "Found:\n",
       "\\ x -> x ^ 2\n",
       "Why not:\n",
       "(^ 2)"
      ]
     },
     "execution_count": 73,
     "metadata": {
     },
     "output_type": "execute_result"
    },
    {
     "data": {
      "text/plain": [
       "100"
      ]
     },
     "execution_count": 73,
     "metadata": {
     },
     "output_type": "execute_result"
    }
   ],
   "source": [
    "(\\ x -> x^2) 10"
   ]
  },
  {
   "cell_type": "markdown",
   "metadata": {
    "collapsed": false
   },
   "source": [
    "Esto nos da el resultado que es 100, sin embargo, podemos usar la función f que definimos anteriormente:"
   ]
  },
  {
   "cell_type": "code",
   "execution_count": 74,
   "metadata": {
    "collapsed": false
   },
   "outputs": [
    {
     "data": {
      "text/plain": [
       "100"
      ]
     },
     "execution_count": 74,
     "metadata": {
     },
     "output_type": "execute_result"
    }
   ],
   "source": [
    "f 10"
   ]
  },
  {
   "cell_type": "markdown",
   "metadata": {
    "collapsed": false
   },
   "source": [
    "Más formalmente las expresiones del cálculo lambda se definen de la siguiente así:\n",
    "Sea $\\Lambda$ un conjunto de expresiones\n",
    "1. **Variables:** Si $x$ es una variable, entonces $x\\in\\Lambda$\n",
    "2. **Abstracciones:** Si $x$ es una variable y $M\\in\\Lambda$, entonces $(\\lambda x.M)\\in\\Lambda$\n",
    "3. **Aplicaciones:** Si $M\\in\\Lambda$ y $N\\in\\Lambda$, entonces $(M N)\\in\\Lambda$"
   ]
  },
  {
   "cell_type": "markdown",
   "metadata": {
    "collapsed": false
   },
   "source": [
    "Otro ejemplo:"
   ]
  },
  {
   "cell_type": "code",
   "execution_count": 75,
   "metadata": {
    "collapsed": false
   },
   "outputs": [
    {
     "data": {
      "text/plain": [
       "15"
      ]
     },
     "execution_count": 75,
     "metadata": {
     },
     "output_type": "execute_result"
    }
   ],
   "source": [
    "add x y = x + y\n",
    "add 10 5"
   ]
  },
  {
   "cell_type": "code",
   "execution_count": 76,
   "metadata": {
    "collapsed": false
   },
   "outputs": [
    {
     "data": {
      "text/html": [
       "<style>/* Styles used for the Hoogle display in the pager */\n",
       ".hoogle-doc {\n",
       "display: block;\n",
       "padding-bottom: 1.3em;\n",
       "padding-left: 0.4em;\n",
       "}\n",
       ".hoogle-code {\n",
       "display: block;\n",
       "font-family: monospace;\n",
       "white-space: pre;\n",
       "}\n",
       ".hoogle-text {\n",
       "display: block;\n",
       "}\n",
       ".hoogle-name {\n",
       "color: green;\n",
       "font-weight: bold;\n",
       "}\n",
       ".hoogle-head {\n",
       "font-weight: bold;\n",
       "}\n",
       ".hoogle-sub {\n",
       "display: block;\n",
       "margin-left: 0.4em;\n",
       "}\n",
       ".hoogle-package {\n",
       "font-weight: bold;\n",
       "font-style: italic;\n",
       "}\n",
       ".hoogle-module {\n",
       "font-weight: bold;\n",
       "}\n",
       ".hoogle-class {\n",
       "font-weight: bold;\n",
       "}\n",
       ".get-type {\n",
       "color: green;\n",
       "font-weight: bold;\n",
       "font-family: monospace;\n",
       "display: block;\n",
       "white-space: pre-wrap;\n",
       "}\n",
       ".show-type {\n",
       "color: green;\n",
       "font-weight: bold;\n",
       "font-family: monospace;\n",
       "margin-left: 1em;\n",
       "}\n",
       ".mono {\n",
       "font-family: monospace;\n",
       "display: block;\n",
       "}\n",
       ".err-msg {\n",
       "color: red;\n",
       "font-style: italic;\n",
       "font-family: monospace;\n",
       "white-space: pre;\n",
       "display: block;\n",
       "}\n",
       "#unshowable {\n",
       "color: red;\n",
       "font-weight: bold;\n",
       "}\n",
       ".err-msg.in.collapse {\n",
       "padding-top: 0.7em;\n",
       "}\n",
       ".highlight-code {\n",
       "white-space: pre;\n",
       "font-family: monospace;\n",
       "}\n",
       ".suggestion-warning { \n",
       "font-weight: bold;\n",
       "color: rgb(200, 130, 0);\n",
       "}\n",
       ".suggestion-error { \n",
       "font-weight: bold;\n",
       "color: red;\n",
       "}\n",
       ".suggestion-name {\n",
       "font-weight: bold;\n",
       "}\n",
       "</style><div class=\"suggestion-name\" style=\"clear:both;\">Redundant lambda</div><div class=\"suggestion-row\" style=\"float: left;\"><div class=\"suggestion-warning\">Found:</div><div class=\"highlight-code\" id=\"haskell\">add' = \\ x -> \\ y -> x + y</div></div><div class=\"suggestion-row\" style=\"float: left;\"><div class=\"suggestion-warning\">Why Not:</div><div class=\"highlight-code\" id=\"haskell\">add' x y = x + y</div></div><div class=\"suggestion-name\" style=\"clear:both;\">Avoid lambda</div><div class=\"suggestion-row\" style=\"float: left;\"><div class=\"suggestion-warning\">Found:</div><div class=\"highlight-code\" id=\"haskell\">\\ x -> \\ y -> x + y</div></div><div class=\"suggestion-row\" style=\"float: left;\"><div class=\"suggestion-warning\">Why Not:</div><div class=\"highlight-code\" id=\"haskell\">(+)</div></div>"
      ],
      "text/plain": [
       "Line 1: Redundant lambda\n",
       "Found:\n",
       "add' = \\ x -> \\ y -> x + y\n",
       "Why not:\n",
       "add' x y = x + yLine 1: Avoid lambda\n",
       "Found:\n",
       "\\ x -> \\ y -> x + y\n",
       "Why not:\n",
       "(+)"
      ]
     },
     "execution_count": 76,
     "metadata": {
     },
     "output_type": "execute_result"
    },
    {
     "data": {
      "text/plain": [
       "15"
      ]
     },
     "execution_count": 76,
     "metadata": {
     },
     "output_type": "execute_result"
    }
   ],
   "source": [
    "add' = \\x -> \\y -> x + y\n",
    "add' 10 5"
   ]
  },
  {
   "cell_type": "markdown",
   "metadata": {
    "collapsed": false
   },
   "source": [
    "En este ejemplo podemos ver una de las principales características de haskell que extienden de cierta forma los conceptos del cálculo lámbda, y es que posee elementos que facilitan la sintaxis (o 'syntactic sugar') ya que esta función en notación lambda sería $\\lambda x.\\lambda y.x+y$ lo cual puede resultar extenso y es similar a lo mostrado en add'. Este ejemplo en particular muestra un caso común de 'curried functions'.\n",
    "\n",
    "---\n",
    "Ahora, despues de esta introducción a lo que es haskell procederemos a mostrar ejemplos de código con algunas de los principales elementos de haskell."
   ]
  },
  {
   "cell_type": "markdown",
   "metadata": {
    "collapsed": false
   },
   "source": [
    "¡Cool!\n",
    "\n",
    "##### Funciones Lambda\n",
    "\n",
    "Las funciones lambda son un concepto importante en la programación funcional. ¿Cómo son las funciones lambda en Haskell? Son funciones anónimas, es decir que no necesitan un nombre para ser definidas, además no se almacenan en ninguna parte.\n",
    "\n",
    "Usemos la función del ejemplo anterior, <b>aplicarDosVeces</b>.\n",
    "Y le pasaremos como parámetro una función que tome un número y retorne el número multiplicado por tres, ¿Tengo que ir al script a definir esta nueva función? No, eso robaría minutos valiosos de programación,  lo haremos con una función lambda, y, ¿cómo?"
   ]
  },
  {
   "cell_type": "code",
   "execution_count": 77,
   "metadata": {
    "collapsed": false
   },
   "outputs": [
    {
     "data": {
      "text/plain": [
       "45"
      ]
     },
     "execution_count": 77,
     "metadata": {
     },
     "output_type": "execute_result"
    }
   ],
   "source": [
    "aplicarDosVeces ( \\a -> 3 * a ) 5"
   ]
  },
  {
   "cell_type": "markdown",
   "metadata": {
    "collapsed": false
   },
   "source": [
    "Como podemos ver 5 se multiplicó por 3 y el resultado se multiplicó por 3, dando como resultado final 45.\n",
    "\n",
    "En el ejemplo la definición de la función lambda se especifica como ( \\a -> 3 * a ), para empezar, Haskell sabrá que leerá una función lambda cuando se escribe el símbolo “\\”, luego de este símbolo se deben especificar los parámetros que recibirá la función e inmediatamente después del operador “->” (retorno) se especifican las instrucciones que determinarán el retorno de la función.\n",
    "\n",
    "Definamos una función lambda que tome 3 parámetros <b>a, b</b> y <b>c</b> y retorne dos veces el primero más 6 veces el segundo por el tercero elevado al cubo."
   ]
  },
  {
   "cell_type": "code",
   "execution_count": 78,
   "metadata": {
    "collapsed": false
   },
   "outputs": [
    {
     "data": {
      "text/plain": [
       "326.0"
      ]
     },
     "execution_count": 78,
     "metadata": {
     },
     "output_type": "execute_result"
    }
   ],
   "source": [
    "( \\a b c -> 2 * a + 6 * b * c ** 3 ) 1 2 3"
   ]
  },
  {
   "cell_type": "markdown",
   "metadata": {
    "collapsed": false
   },
   "source": [
    "Como es una función lambda no tiene sentido que sea definida en un script, se escribe directamente en la consola y recibe sus respectivos parámetros. Luego de haber presionado enter y ver el resultado de la función, ¿dónde quedó la función? Nunca fue almacenada, si se desea almacenar se podría escribir algo como "
   ]
  },
  {
   "cell_type": "code",
   "execution_count": 79,
   "metadata": {
    "collapsed": false
   },
   "outputs": [
    {
     "data": {
      "text/html": [
       "<style>/* Styles used for the Hoogle display in the pager */\n",
       ".hoogle-doc {\n",
       "display: block;\n",
       "padding-bottom: 1.3em;\n",
       "padding-left: 0.4em;\n",
       "}\n",
       ".hoogle-code {\n",
       "display: block;\n",
       "font-family: monospace;\n",
       "white-space: pre;\n",
       "}\n",
       ".hoogle-text {\n",
       "display: block;\n",
       "}\n",
       ".hoogle-name {\n",
       "color: green;\n",
       "font-weight: bold;\n",
       "}\n",
       ".hoogle-head {\n",
       "font-weight: bold;\n",
       "}\n",
       ".hoogle-sub {\n",
       "display: block;\n",
       "margin-left: 0.4em;\n",
       "}\n",
       ".hoogle-package {\n",
       "font-weight: bold;\n",
       "font-style: italic;\n",
       "}\n",
       ".hoogle-module {\n",
       "font-weight: bold;\n",
       "}\n",
       ".hoogle-class {\n",
       "font-weight: bold;\n",
       "}\n",
       ".get-type {\n",
       "color: green;\n",
       "font-weight: bold;\n",
       "font-family: monospace;\n",
       "display: block;\n",
       "white-space: pre-wrap;\n",
       "}\n",
       ".show-type {\n",
       "color: green;\n",
       "font-weight: bold;\n",
       "font-family: monospace;\n",
       "margin-left: 1em;\n",
       "}\n",
       ".mono {\n",
       "font-family: monospace;\n",
       "display: block;\n",
       "}\n",
       ".err-msg {\n",
       "color: red;\n",
       "font-style: italic;\n",
       "font-family: monospace;\n",
       "white-space: pre;\n",
       "display: block;\n",
       "}\n",
       "#unshowable {\n",
       "color: red;\n",
       "font-weight: bold;\n",
       "}\n",
       ".err-msg.in.collapse {\n",
       "padding-top: 0.7em;\n",
       "}\n",
       ".highlight-code {\n",
       "white-space: pre;\n",
       "font-family: monospace;\n",
       "}\n",
       ".suggestion-warning { \n",
       "font-weight: bold;\n",
       "color: rgb(200, 130, 0);\n",
       "}\n",
       ".suggestion-error { \n",
       "font-weight: bold;\n",
       "color: red;\n",
       "}\n",
       ".suggestion-name {\n",
       "font-weight: bold;\n",
       "}\n",
       "</style><div class=\"suggestion-name\" style=\"clear:both;\">Redundant lambda</div><div class=\"suggestion-row\" style=\"float: left;\"><div class=\"suggestion-warning\">Found:</div><div class=\"highlight-code\" id=\"haskell\">fs = \\ a b c -> 2 * a + 6 * b * c ** 3</div></div><div class=\"suggestion-row\" style=\"float: left;\"><div class=\"suggestion-warning\">Why Not:</div><div class=\"highlight-code\" id=\"haskell\">fs a b c = 2 * a + 6 * b * c ** 3</div></div>"
      ],
      "text/plain": [
       "Line 1: Redundant lambda\n",
       "Found:\n",
       "fs = \\ a b c -> 2 * a + 6 * b * c ** 3\n",
       "Why not:\n",
       "fs a b c = 2 * a + 6 * b * c ** 3"
      ]
     },
     "execution_count": 79,
     "metadata": {
     },
     "output_type": "execute_result"
    },
    {
     "data": {
      "text/plain": [
       "326.0"
      ]
     },
     "execution_count": 79,
     "metadata": {
     },
     "output_type": "execute_result"
    }
   ],
   "source": [
    "let fs = \\a b c -> 2 * a + 6 * b * c ** 3\n",
    "fs 1 2 3"
   ]
  },
  {
   "cell_type": "markdown",
   "metadata": {
    "collapsed": false
   },
   "source": [
    "Y obtenemos el mismo resultado, pero cabe aclarar que este no es el objetivo de las funciones lambda.\n",
    "\n",
    "##### Aplicación y composición de funciones\n",
    "\n",
    "A veces es útil pasar como parámetro de una función el resultado de otra función, por ejemplo para la función <b>succ</b> definida en Haskell, la cual retorna el sucesor de un elemento, imaginemos que necesitamos el segundo sucesor, ya sé, sería más práctico retornar el elemento más 2, pero esto en caso de que fuese numérico; la función <b>succ</b> es mucho más general, por lo tanto siguiendo con nuestro ejemplo del segundo sucesor, una forma de implementar dicha función sería la siguiente"
   ]
  },
  {
   "cell_type": "code",
   "execution_count": 80,
   "metadata": {
    "collapsed": false
   },
   "outputs": [
    {
     "data": {
      "text/plain": [
       "7"
      ]
     },
     "execution_count": 80,
     "metadata": {
     },
     "output_type": "execute_result"
    }
   ],
   "source": [
    "succ ( succ 5 )"
   ]
  },
  {
   "cell_type": "code",
   "execution_count": 81,
   "metadata": {
    "collapsed": false
   },
   "outputs": [
    {
     "data": {
      "text/plain": [
       "'C'"
      ]
     },
     "execution_count": 81,
     "metadata": {
     },
     "output_type": "execute_result"
    }
   ],
   "source": [
    "succ ( succ 'A' )"
   ]
  },
  {
   "cell_type": "markdown",
   "metadata": {
    "collapsed": false
   },
   "source": [
    "Y ¿si fuese el décimo sucesor?, serían muchos paréntesis ¿verdad? Haskell nos ofrece el siguiente operador"
   ]
  },
  {
   "cell_type": "code",
   "execution_count": 82,
   "metadata": {
    "collapsed": false
   },
   "outputs": [
    {
     "data": {
      "text/plain": [
       "15"
      ]
     },
     "execution_count": 82,
     "metadata": {
     },
     "output_type": "execute_result"
    }
   ],
   "source": [
    "succ $ succ $ succ $ succ $ succ $ succ $ succ $ succ $ succ $ succ 5 "
   ]
  },
  {
   "cell_type": "code",
   "execution_count": 83,
   "metadata": {
    "collapsed": false
   },
   "outputs": [
    {
     "data": {
      "text/plain": [
       "'K'"
      ]
     },
     "execution_count": 83,
     "metadata": {
     },
     "output_type": "execute_result"
    }
   ],
   "source": [
    "succ $ succ $ succ $ succ $ succ $ succ $ succ $ succ $ succ $ succ 'A'"
   ]
  },
  {
   "cell_type": "markdown",
   "metadata": {
    "collapsed": false
   },
   "source": [
    "El operador “$” se conoce como el operador de aplicación de funciones, permite aplicar una función al resultado de otra sin la necesidad de agregar un montón de paréntesis.\n",
    "\n",
    "La composición de funciones pretende hacer más legible la aplicación de funciones, bajo el mismo ejemplo de n-ésimo sucesor lo podemos escribir de la siguiente manera\n"
   ]
  },
  {
   "cell_type": "code",
   "execution_count": 84,
   "metadata": {
    "collapsed": false
   },
   "outputs": [
    {
     "data": {
      "text/plain": [
       "7"
      ]
     },
     "execution_count": 84,
     "metadata": {
     },
     "output_type": "execute_result"
    }
   ],
   "source": [
    "( succ . succ ) 5"
   ]
  },
  {
   "cell_type": "markdown",
   "metadata": {
    "collapsed": false
   },
   "source": [
    "En ésta línea le estamos diciendo a Haskell que forme una nueva función, es decir si definimos <b>f</b> como la función <b>succ(x), f compuesto f</b> será una nueva función, por eso la necesidad de los paréntesis, si no los escribimos tendremos un error "
   ]
  },
  {
   "cell_type": "code",
   "execution_count": 85,
   "metadata": {
    "collapsed": false
   },
   "outputs": [
    {
     "data": {
      "text/html": [
       "<style>/* Styles used for the Hoogle display in the pager */\n",
       ".hoogle-doc {\n",
       "display: block;\n",
       "padding-bottom: 1.3em;\n",
       "padding-left: 0.4em;\n",
       "}\n",
       ".hoogle-code {\n",
       "display: block;\n",
       "font-family: monospace;\n",
       "white-space: pre;\n",
       "}\n",
       ".hoogle-text {\n",
       "display: block;\n",
       "}\n",
       ".hoogle-name {\n",
       "color: green;\n",
       "font-weight: bold;\n",
       "}\n",
       ".hoogle-head {\n",
       "font-weight: bold;\n",
       "}\n",
       ".hoogle-sub {\n",
       "display: block;\n",
       "margin-left: 0.4em;\n",
       "}\n",
       ".hoogle-package {\n",
       "font-weight: bold;\n",
       "font-style: italic;\n",
       "}\n",
       ".hoogle-module {\n",
       "font-weight: bold;\n",
       "}\n",
       ".hoogle-class {\n",
       "font-weight: bold;\n",
       "}\n",
       ".get-type {\n",
       "color: green;\n",
       "font-weight: bold;\n",
       "font-family: monospace;\n",
       "display: block;\n",
       "white-space: pre-wrap;\n",
       "}\n",
       ".show-type {\n",
       "color: green;\n",
       "font-weight: bold;\n",
       "font-family: monospace;\n",
       "margin-left: 1em;\n",
       "}\n",
       ".mono {\n",
       "font-family: monospace;\n",
       "display: block;\n",
       "}\n",
       ".err-msg {\n",
       "color: red;\n",
       "font-style: italic;\n",
       "font-family: monospace;\n",
       "white-space: pre;\n",
       "display: block;\n",
       "}\n",
       "#unshowable {\n",
       "color: red;\n",
       "font-weight: bold;\n",
       "}\n",
       ".err-msg.in.collapse {\n",
       "padding-top: 0.7em;\n",
       "}\n",
       ".highlight-code {\n",
       "white-space: pre;\n",
       "font-family: monospace;\n",
       "}\n",
       ".suggestion-warning { \n",
       "font-weight: bold;\n",
       "color: rgb(200, 130, 0);\n",
       "}\n",
       ".suggestion-error { \n",
       "font-weight: bold;\n",
       "color: red;\n",
       "}\n",
       ".suggestion-name {\n",
       "font-weight: bold;\n",
       "}\n",
       "</style><span class='err-msg'>&lt;interactive&gt;:1:1: error:<br/>    • Non type-variable argument in the constraint: Enum (a -&gt; c)<br/>      (Use FlexibleContexts to permit this)<br/>    • When checking the inferred type<br/>        it :: forall c a. (Enum c, Enum (a -&gt; c), Num (a -&gt; c)) =&gt; a -&gt; c</span>"
      ],
      "text/plain": [
       "<interactive>:1:1: error:\n",
       "    • Non type-variable argument in the constraint: Enum (a -> c)\n",
       "      (Use FlexibleContexts to permit this)\n",
       "    • When checking the inferred type\n",
       "        it :: forall c a. (Enum c, Enum (a -> c), Num (a -> c)) => a -> c"
      ]
     },
     "execution_count": 85,
     "metadata": {
     },
     "output_type": "execute_result"
    }
   ],
   "source": [
    "succ . succ 5"
   ]
  },
  {
   "cell_type": "markdown",
   "metadata": {
    "collapsed": false
   },
   "source": [
    "Veamos la definición del operador “.”"
   ]
  },
  {
   "cell_type": "code",
   "execution_count": 86,
   "metadata": {
    "collapsed": false
   },
   "outputs": [
    {
     "data": {
      "text/html": [
       "<style>/* Styles used for the Hoogle display in the pager */\n",
       ".hoogle-doc {\n",
       "display: block;\n",
       "padding-bottom: 1.3em;\n",
       "padding-left: 0.4em;\n",
       "}\n",
       ".hoogle-code {\n",
       "display: block;\n",
       "font-family: monospace;\n",
       "white-space: pre;\n",
       "}\n",
       ".hoogle-text {\n",
       "display: block;\n",
       "}\n",
       ".hoogle-name {\n",
       "color: green;\n",
       "font-weight: bold;\n",
       "}\n",
       ".hoogle-head {\n",
       "font-weight: bold;\n",
       "}\n",
       ".hoogle-sub {\n",
       "display: block;\n",
       "margin-left: 0.4em;\n",
       "}\n",
       ".hoogle-package {\n",
       "font-weight: bold;\n",
       "font-style: italic;\n",
       "}\n",
       ".hoogle-module {\n",
       "font-weight: bold;\n",
       "}\n",
       ".hoogle-class {\n",
       "font-weight: bold;\n",
       "}\n",
       ".get-type {\n",
       "color: green;\n",
       "font-weight: bold;\n",
       "font-family: monospace;\n",
       "display: block;\n",
       "white-space: pre-wrap;\n",
       "}\n",
       ".show-type {\n",
       "color: green;\n",
       "font-weight: bold;\n",
       "font-family: monospace;\n",
       "margin-left: 1em;\n",
       "}\n",
       ".mono {\n",
       "font-family: monospace;\n",
       "display: block;\n",
       "}\n",
       ".err-msg {\n",
       "color: red;\n",
       "font-style: italic;\n",
       "font-family: monospace;\n",
       "white-space: pre;\n",
       "display: block;\n",
       "}\n",
       "#unshowable {\n",
       "color: red;\n",
       "font-weight: bold;\n",
       "}\n",
       ".err-msg.in.collapse {\n",
       "padding-top: 0.7em;\n",
       "}\n",
       ".highlight-code {\n",
       "white-space: pre;\n",
       "font-family: monospace;\n",
       "}\n",
       ".suggestion-warning { \n",
       "font-weight: bold;\n",
       "color: rgb(200, 130, 0);\n",
       "}\n",
       ".suggestion-error { \n",
       "font-weight: bold;\n",
       "color: red;\n",
       "}\n",
       ".suggestion-name {\n",
       "font-weight: bold;\n",
       "}\n",
       "</style><span class='get-type'>( . ) :: forall b c a. (b -> c) -> (a -> b) -> a -> c</span>"
      ],
      "text/plain": [
       "( . ) :: forall b c a. (b -> c) -> (a -> b) -> a -> c"
      ]
     },
     "execution_count": 86,
     "metadata": {
     },
     "output_type": "execute_result"
    }
   ],
   "source": [
    ":t ( . )"
   ]
  },
  {
   "cell_type": "markdown",
   "metadata": {
    "collapsed": false
   },
   "source": [
    "(.) :: ( b -> c ) -> ( a -> b ) -> a -> c"
   ]
  },
  {
   "cell_type": "markdown",
   "metadata": {
    "collapsed": false
   },
   "source": [
    "### Map and filters\n",
    "`map` toma una funcion y una lista, y aplica la función a cada elemento de la lista, generando una nueva lista"
   ]
  },
  {
   "cell_type": "code",
   "execution_count": 87,
   "metadata": {
    "collapsed": false
   },
   "outputs": [
   ],
   "source": [
    "map :: (a -> b) -> [a] -> [b]\n",
    "map _ [] = []\n",
    "map f (x:xs) = f x : map f xs"
   ]
  },
  {
   "cell_type": "markdown",
   "metadata": {
    "collapsed": false
   },
   "source": [
    "La firma de tipo dice que toma una función que toma una `a` y devuelve una `b`, una lista de `a` y devuelve una lista de `b`. Es interesante que solo mirando la firma de tipo de una función, a veces se puede saber lo que hace. map es una de esas funciones de orden superior realmente versátiles que se pueden usar de millones de maneras diferentes"
   ]
  },
  {
   "cell_type": "code",
   "execution_count": 88,
   "metadata": {
    "collapsed": false
   },
   "outputs": [
    {
     "data": {
      "text/plain": [
       "[4,8,6,4,9]"
      ]
     },
     "execution_count": 88,
     "metadata": {
     },
     "output_type": "execute_result"
    }
   ],
   "source": [
    "map (+3) [1,5,3,1,6]"
   ]
  },
  {
   "cell_type": "code",
   "execution_count": 89,
   "metadata": {
    "collapsed": false
   },
   "outputs": [
    {
     "data": {
      "text/plain": [
       "[\"BIFF!\",\"BANG!\",\"POW!\"]"
      ]
     },
     "execution_count": 89,
     "metadata": {
     },
     "output_type": "execute_result"
    }
   ],
   "source": [
    "map (++ \"!\") [\"BIFF\", \"BANG\", \"POW\"]"
   ]
  },
  {
   "cell_type": "code",
   "execution_count": 90,
   "metadata": {
    "collapsed": false
   },
   "outputs": [
    {
     "data": {
      "text/plain": [
       "[[3,3,3],[4,4,4],[5,5,5],[6,6,6]]"
      ]
     },
     "execution_count": 90,
     "metadata": {
     },
     "output_type": "execute_result"
    }
   ],
   "source": [
    "map (replicate 3) [3..6]"
   ]
  },
  {
   "cell_type": "code",
   "execution_count": 91,
   "metadata": {
    "collapsed": false
   },
   "outputs": [
    {
     "data": {
      "text/plain": [
       "[[1,4],[9,16,25,36],[49,64]]"
      ]
     },
     "execution_count": 91,
     "metadata": {
     },
     "output_type": "execute_result"
    }
   ],
   "source": [
    "map (map (^2)) [[1,2],[3,4,5,6],[7,8]]"
   ]
  },
  {
   "cell_type": "markdown",
   "metadata": {
    "collapsed": false
   },
   "source": [
    "`filter` es una función que toma un predicado (un predicado es una función que muestra cuando algo es verdadero o no, asi que en este caso es una función que retorna un valor booleano) y una lista y retorna una lista que satisfaga el predicado. La implementación y la firma de tipo es la siguiente:"
   ]
  },
  {
   "cell_type": "code",
   "execution_count": 92,
   "metadata": {
    "collapsed": false
   },
   "outputs": [
   ],
   "source": [
    "filter :: (a -> Bool) -> [a] -> [a]\n",
    "filter _ [] = []\n",
    "filter p (x:xs)\n",
    "    | p x       = x : filter p xs\n",
    "    | otherwise = filter p xs"
   ]
  },
  {
   "cell_type": "code",
   "execution_count": 93,
   "metadata": {
    "collapsed": false
   },
   "outputs": [
    {
     "data": {
      "text/plain": [
       "[5,6,4]"
      ]
     },
     "execution_count": 93,
     "metadata": {
     },
     "output_type": "execute_result"
    }
   ],
   "source": [
    "filter (>3) [1,5,3,2,1,6,4,3,2,1]"
   ]
  },
  {
   "cell_type": "code",
   "execution_count": 94,
   "metadata": {
    "collapsed": false
   },
   "outputs": [
    {
     "data": {
      "text/plain": [
       "[2,4,6,8,10]"
      ]
     },
     "execution_count": 94,
     "metadata": {
     },
     "output_type": "execute_result"
    }
   ],
   "source": [
    "filter even [1..10]"
   ]
  },
  {
   "cell_type": "markdown",
   "metadata": {
    "collapsed": false
   },
   "source": [
    "#### Dynamic programming\n",
    "\n",
    "Como un ejemplo más específico de las cosas interesantes que la evaluación perezosa nos provee, considere la técnica de programación dinámica. Por lo general, se debe tener mucho cuidado para completar las entradas de una tabla de programación dinámica en el orden correcto, de modo que cada vez que calculemos el valor de una celda, sus dependencias ya se hayan calculado. Si nos equivocamos en el orden, obtenemos resultados falsos.\n",
    "\n",
    "Sin embargo, con una evaluación diferida, podemos obtener el tiempo de ejecución de Haskell para determinar el orden de evaluación adecuado para nosotros. Por ejemplo, aquí hay un código Haskell para resolver el problema de la mochila 0-1. Observe cómo simplemente definimos la matriz m en términos de sí misma, utilizando la recurrencia estándar, y dejemos que la evaluación diferida resuelva el orden correcto para calcular sus celdas."
   ]
  },
  {
   "cell_type": "code",
   "execution_count": 95,
   "metadata": {
    "collapsed": false
   },
   "outputs": [
   ],
   "source": [
    "import Data.Array\n",
    "\n",
    "knapsack :: [Double]   -- values \n",
    "           -> [Integer]  -- nonnegative weights\n",
    "           -> Integer    -- knapsack size\n",
    "           -> Double     -- max possible value\n",
    "knapsack vs ws maxW = m!(numItems-1, maxW)\n",
    "  where numItems = length vs\n",
    "        m = array ((-1,0), (numItems-1, maxW)) $\n",
    "              [((-1,w), 0) | w <- [0 .. maxW]] ++\n",
    "              [((i,0), 0) | i <- [0 .. numItems-1]] ++\n",
    "              [((i,w), best) \n",
    "                  | i <- [0 .. numItems-1]\n",
    "                  , w <- [1 .. maxW]\n",
    "                  , let best\n",
    "                          | ws!!i > w  = m!(i-1, w)\n",
    "                          | otherwise = max (m!(i-1, w)) \n",
    "                                            (m!(i-1, w - ws!!i) + vs!!i)\n",
    "              ]\n",
    "\n",
    "example = knapsack [3,4,5,8,10] [2,3,4,5,9] 20"
   ]
  },
  {
   "cell_type": "code",
   "execution_count": 96,
   "metadata": {
    "collapsed": false
   },
   "outputs": [
    {
     "data": {
      "text/plain": [
       "26.0"
      ]
     },
     "execution_count": 96,
     "metadata": {
     },
     "output_type": "execute_result"
    }
   ],
   "source": [
    "example"
   ]
  },
  {
   "cell_type": "markdown",
   "metadata": {
    "collapsed": true
   },
   "source": [
    "## Referencias\n",
    "\n",
    "<ul>\n",
    "<li>\n",
    "Lipovača M. (Sin fecha). Learn You A Haskell. Recuperado de <a href=\"http://learnyouahaskell.com/chapters\">http://learnyouahaskell.com/chapters</a>\n",
    "</li>\n",
    "<li>\n",
    "Jones S. P. (8 de Octubre de 2013). Haskell Wiki. Recuperado de <a href=\"https://wiki.haskell.org/Introduction\">https://wiki.haskell.org/Introduction</a>\n",
    "</li>"
   ]
  },
  {
   "cell_type": "markdown",
   "metadata": {
    "collapsed": false
   },
   "source": [
    "### Modificaciones al tutorial original por:\n",
    "* Jose Daniel Organista Calderon\n",
    "* Edwin Ricardo Mahecha Parra\n",
    "* Juan David Barragan Mendez"
   ]
  }
 ],
 "metadata": {
  "kernelspec": {
   "display_name": "Haskell",
   "language": "haskell",
   "name": "haskell"
  },
  "language_info": {
   "codemirror_mode": "ihaskell",
   "file_extension": ".hs",
   "name": "haskell",
   "version": "8.4.2"
  }
 },
 "nbformat": 4,
 "nbformat_minor": 0
}